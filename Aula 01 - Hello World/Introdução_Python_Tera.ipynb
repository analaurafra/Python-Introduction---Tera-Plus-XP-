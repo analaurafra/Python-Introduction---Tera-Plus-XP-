{
  "nbformat": 4,
  "nbformat_minor": 0,
  "metadata": {
    "colab": {
      "name": "Introdução Python - Tera ",
      "provenance": []
    },
    "kernelspec": {
      "name": "python3",
      "display_name": "Python 3"
    },
    "language_info": {
      "name": "python"
    }
  },
  "cells": [
    {
      "cell_type": "code",
      "metadata": {
        "colab": {
          "base_uri": "https://localhost:8080/"
        },
        "id": "K46n91U71AdX",
        "outputId": "993494f3-bfaa-47f4-d283-f6774b747b45"
      },
      "source": [
        "print (\"Olá, meu nome é Ana Laura.\")"
      ],
      "execution_count": null,
      "outputs": [
        {
          "output_type": "stream",
          "name": "stdout",
          "text": [
            "Olá, meu nome é Ana Laura.\n"
          ]
        }
      ]
    }
  ]
}