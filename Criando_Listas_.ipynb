{
  "nbformat": 4,
  "nbformat_minor": 0,
  "metadata": {
    "colab": {
      "name": "Criando Listas e Tuplas",
      "provenance": []
    },
    "kernelspec": {
      "name": "python3",
      "display_name": "Python 3"
    },
    "language_info": {
      "name": "python"
    }
  },
  "cells": [
    {
      "cell_type": "markdown",
      "metadata": {
        "id": "RYsRv8jP-wTC"
      },
      "source": [
        "# **Criando Listas**"
      ]
    },
    {
      "cell_type": "code",
      "metadata": {
        "colab": {
          "base_uri": "https://localhost:8080/"
        },
        "id": "tovxhOTiAhf7",
        "outputId": "03d6a296-488c-4a7b-cda1-8953b91bbbdd"
      },
      "source": [
        "#criando uma lista chamada 'x'\n",
        "x = [1,2,3,4,5]\n",
        "x"
      ],
      "execution_count": null,
      "outputs": [
        {
          "output_type": "execute_result",
          "data": {
            "text/plain": [
              "[1, 2, 3, 4, 5]"
            ]
          },
          "metadata": {},
          "execution_count": 9
        }
      ]
    },
    {
      "cell_type": "code",
      "metadata": {
        "colab": {
          "base_uri": "https://localhost:8080/"
        },
        "id": "Z2Ja1Pq_BD5d",
        "outputId": "d17a3c39-c3bf-4166-d9de-c6aad691eec2"
      },
      "source": [
        "#sabendo o tipo da lista através do comando type\n",
        "type(x)"
      ],
      "execution_count": null,
      "outputs": [
        {
          "output_type": "execute_result",
          "data": {
            "text/plain": [
              "list"
            ]
          },
          "metadata": {},
          "execution_count": 10
        }
      ]
    },
    {
      "cell_type": "code",
      "metadata": {
        "colab": {
          "base_uri": "https://localhost:8080/"
        },
        "id": "kfCPqECCBWUB",
        "outputId": "488d46ba-24ba-49da-a977-7f6090a35c96"
      },
      "source": [
        "#criando uma outra sequência  do tipo 'tuple'\n",
        "y = list(('a','v','c'))\n",
        "y"
      ],
      "execution_count": null,
      "outputs": [
        {
          "output_type": "execute_result",
          "data": {
            "text/plain": [
              "['a', 'v', 'c']"
            ]
          },
          "metadata": {},
          "execution_count": 11
        }
      ]
    },
    {
      "cell_type": "code",
      "metadata": {
        "colab": {
          "base_uri": "https://localhost:8080/"
        },
        "id": "u6-VWCHOBlrD",
        "outputId": "d815531d-ebec-478e-9c0a-c04c9d52bd96"
      },
      "source": [
        "#verificando o tipe da tuple\n",
        "type(y)"
      ],
      "execution_count": null,
      "outputs": [
        {
          "output_type": "execute_result",
          "data": {
            "text/plain": [
              "list"
            ]
          },
          "metadata": {},
          "execution_count": 12
        }
      ]
    },
    {
      "cell_type": "markdown",
      "metadata": {
        "id": "LuJbm-UaB9PA"
      },
      "source": [
        "Criando uma lista de diferente tipos:"
      ]
    },
    {
      "cell_type": "code",
      "metadata": {
        "colab": {
          "base_uri": "https://localhost:8080/"
        },
        "id": "p1IeHZpLCAUC",
        "outputId": "1b96c271-cc40-4c30-f701-5871810163ca"
      },
      "source": [
        "x = [None, 1, 'a', 'Palavra Completa', [None,'x',1988],('Nome','João')]\n",
        "x"
      ],
      "execution_count": null,
      "outputs": [
        {
          "output_type": "execute_result",
          "data": {
            "text/plain": [
              "[None, 1, 'a', 'Palavra Completa', [None, 'x', 1988], ('Nome', 'João')]"
            ]
          },
          "metadata": {},
          "execution_count": 14
        }
      ]
    },
    {
      "cell_type": "code",
      "metadata": {
        "colab": {
          "base_uri": "https://localhost:8080/"
        },
        "id": "FARWjwJkDqH9",
        "outputId": "7d6109ea-47b8-4d4f-bd9c-2aed6bed6ce1"
      },
      "source": [
        "type(x)"
      ],
      "execution_count": null,
      "outputs": [
        {
          "output_type": "execute_result",
          "data": {
            "text/plain": [
              "list"
            ]
          },
          "metadata": {},
          "execution_count": 15
        }
      ]
    },
    {
      "cell_type": "markdown",
      "metadata": {
        "id": "AJ2Rtif3DwDh"
      },
      "source": [
        "# **Acesso aos dados da lista**"
      ]
    },
    {
      "cell_type": "code",
      "metadata": {
        "colab": {
          "base_uri": "https://localhost:8080/"
        },
        "id": "9fpDuhN8Dy0Q",
        "outputId": "5726827f-f47a-479d-fd35-965258cda49d"
      },
      "source": [
        "#criando a lista para testar os conceitos\n",
        "x = ['primeiro', 'segundo', 'terceiro', 'quarto','quinto', 'pernúltimo','último']\n",
        "x"
      ],
      "execution_count": null,
      "outputs": [
        {
          "output_type": "execute_result",
          "data": {
            "text/plain": [
              "['primeiro', 'segundo', 'terceiro', 'quarto', 'quinto', 'pernúltimo', 'último']"
            ]
          },
          "metadata": {},
          "execution_count": 16
        }
      ]
    },
    {
      "cell_type": "code",
      "metadata": {
        "colab": {
          "base_uri": "https://localhost:8080/",
          "height": 35
        },
        "id": "eItj-gCPESpE",
        "outputId": "84a4cc49-816c-4bbe-c4f0-b3bb1591febd"
      },
      "source": [
        "x[3]"
      ],
      "execution_count": null,
      "outputs": [
        {
          "output_type": "execute_result",
          "data": {
            "application/vnd.google.colaboratory.intrinsic+json": {
              "type": "string"
            },
            "text/plain": [
              "'quarto'"
            ]
          },
          "metadata": {},
          "execution_count": 17
        }
      ]
    },
    {
      "cell_type": "code",
      "metadata": {
        "colab": {
          "base_uri": "https://localhost:8080/",
          "height": 35
        },
        "id": "2ehKZoj3EXQD",
        "outputId": "e236b708-b5de-4e10-9b4c-cc1a8a8e95c3"
      },
      "source": [
        "x[6]"
      ],
      "execution_count": null,
      "outputs": [
        {
          "output_type": "execute_result",
          "data": {
            "application/vnd.google.colaboratory.intrinsic+json": {
              "type": "string"
            },
            "text/plain": [
              "'último'"
            ]
          },
          "metadata": {},
          "execution_count": 18
        }
      ]
    },
    {
      "cell_type": "code",
      "metadata": {
        "id": "-QkhqodhEa8y"
      },
      "source": [
        "#Observação no Python começamos a contar(indices) a partir de 0 portanto x[0] é o primeiro da lista e x[1] é o segundo"
      ],
      "execution_count": null,
      "outputs": []
    },
    {
      "cell_type": "code",
      "metadata": {
        "colab": {
          "base_uri": "https://localhost:8080/",
          "height": 35
        },
        "id": "HqJNkwN9E24O",
        "outputId": "9f17e87b-7aa9-4432-9558-6ed85a940940"
      },
      "source": [
        "x[0]"
      ],
      "execution_count": null,
      "outputs": [
        {
          "output_type": "execute_result",
          "data": {
            "application/vnd.google.colaboratory.intrinsic+json": {
              "type": "string"
            },
            "text/plain": [
              "'primeiro'"
            ]
          },
          "metadata": {},
          "execution_count": 20
        }
      ]
    },
    {
      "cell_type": "code",
      "metadata": {
        "colab": {
          "base_uri": "https://localhost:8080/",
          "height": 35
        },
        "id": "JWAqfBrwE71d",
        "outputId": "ff08b6fa-bc13-4700-d0b1-d32a2249f9f3"
      },
      "source": [
        "x[1]"
      ],
      "execution_count": null,
      "outputs": [
        {
          "output_type": "execute_result",
          "data": {
            "application/vnd.google.colaboratory.intrinsic+json": {
              "type": "string"
            },
            "text/plain": [
              "'segundo'"
            ]
          },
          "metadata": {},
          "execution_count": 21
        }
      ]
    },
    {
      "cell_type": "code",
      "metadata": {
        "colab": {
          "base_uri": "https://localhost:8080/",
          "height": 35
        },
        "id": "b8QtzHgyPGJw",
        "outputId": "a51937ae-6c15-4c52-af03-4bf037553ce7"
      },
      "source": [
        "x[-7]"
      ],
      "execution_count": 30,
      "outputs": [
        {
          "output_type": "execute_result",
          "data": {
            "application/vnd.google.colaboratory.intrinsic+json": {
              "type": "string"
            },
            "text/plain": [
              "'primeiro'"
            ]
          },
          "metadata": {},
          "execution_count": 30
        }
      ]
    },
    {
      "cell_type": "markdown",
      "metadata": {
        "id": "H5w5Exh1FHwR"
      },
      "source": [
        "Acesso ao segmento ou **Slice**"
      ]
    },
    {
      "cell_type": "code",
      "metadata": {
        "id": "nZDQ83cuFRGZ"
      },
      "source": [
        "#y = x[<primeira_posicao>:<segunda_posicao> +1]"
      ],
      "execution_count": null,
      "outputs": []
    },
    {
      "cell_type": "code",
      "metadata": {
        "colab": {
          "base_uri": "https://localhost:8080/"
        },
        "id": "9uFr9CvHF0mG",
        "outputId": "b5db6186-0a87-42a2-f07e-76d307a37ee8"
      },
      "source": [
        "#usando o slice para captar os 3 valores entre '2' (inclusive) e 5 (exclusive)\n",
        "x[2:5]"
      ],
      "execution_count": 22,
      "outputs": [
        {
          "output_type": "execute_result",
          "data": {
            "text/plain": [
              "['terceiro', 'quarto', 'quinto']"
            ]
          },
          "metadata": {},
          "execution_count": 22
        }
      ]
    },
    {
      "cell_type": "code",
      "metadata": {
        "colab": {
          "base_uri": "https://localhost:8080/",
          "height": 35
        },
        "id": "Pc5uB51lGGzz",
        "outputId": "c9d85ecb-fd82-4433-ff43-2e192a453fea"
      },
      "source": [
        "#verificando a primeira posição\n",
        "x[2]"
      ],
      "execution_count": 23,
      "outputs": [
        {
          "output_type": "execute_result",
          "data": {
            "application/vnd.google.colaboratory.intrinsic+json": {
              "type": "string"
            },
            "text/plain": [
              "'terceiro'"
            ]
          },
          "metadata": {},
          "execution_count": 23
        }
      ]
    },
    {
      "cell_type": "markdown",
      "metadata": {
        "id": "W1eQ_hIKGvE2"
      },
      "source": [
        "Para acessar o **último elemento da lista** é necessário deixar o último número vazio para slice"
      ]
    },
    {
      "cell_type": "code",
      "metadata": {
        "colab": {
          "base_uri": "https://localhost:8080/",
          "height": 35
        },
        "id": "rfwYu-9MGy7X",
        "outputId": "b167a1b6-f759-49ad-b810-58e6553fe0b0"
      },
      "source": [
        "x[5]"
      ],
      "execution_count": 24,
      "outputs": [
        {
          "output_type": "execute_result",
          "data": {
            "application/vnd.google.colaboratory.intrinsic+json": {
              "type": "string"
            },
            "text/plain": [
              "'pernúltimo'"
            ]
          },
          "metadata": {},
          "execution_count": 24
        }
      ]
    },
    {
      "cell_type": "markdown",
      "metadata": {
        "id": "rehECelvHJlu"
      },
      "source": [
        "Para o caso do primeiro índice, tanto faz usar o valor vazio ou zero"
      ]
    },
    {
      "cell_type": "code",
      "metadata": {
        "colab": {
          "base_uri": "https://localhost:8080/"
        },
        "id": "jAvyxSMAHTv9",
        "outputId": "53c6835a-9fab-49bd-c192-5f6700ffb527"
      },
      "source": [
        "#declarando o zero\n",
        "x[0:3]"
      ],
      "execution_count": 25,
      "outputs": [
        {
          "output_type": "execute_result",
          "data": {
            "text/plain": [
              "['primeiro', 'segundo', 'terceiro']"
            ]
          },
          "metadata": {},
          "execution_count": 25
        }
      ]
    },
    {
      "cell_type": "code",
      "metadata": {
        "colab": {
          "base_uri": "https://localhost:8080/"
        },
        "id": "4301Pz-gHbhQ",
        "outputId": "afce0295-dd92-4dcf-ba67-e7bf9b0a3fb5"
      },
      "source": [
        "#imitindo o zero\n",
        "x[:3]"
      ],
      "execution_count": 26,
      "outputs": [
        {
          "output_type": "execute_result",
          "data": {
            "text/plain": [
              "['primeiro', 'segundo', 'terceiro']"
            ]
          },
          "metadata": {},
          "execution_count": 26
        }
      ]
    },
    {
      "cell_type": "markdown",
      "metadata": {
        "id": "uNT36lfOHumd"
      },
      "source": [
        "Step - Definindo o passo ( Define de quanto em quanto índices o slice deve pegar os dados . \n",
        "\n",
        "x[start:end:step}"
      ]
    },
    {
      "cell_type": "code",
      "metadata": {
        "colab": {
          "base_uri": "https://localhost:8080/"
        },
        "id": "6L4_WcNLIFUG",
        "outputId": "9e2dd0b3-1b2d-4b69-e4af-287f474b1ca0"
      },
      "source": [
        "# slice com step igual a 1\n",
        "#Step igual a 1\n",
        "x[2:5:1]"
      ],
      "execution_count": 27,
      "outputs": [
        {
          "output_type": "execute_result",
          "data": {
            "text/plain": [
              "['terceiro', 'quarto', 'quinto']"
            ]
          },
          "metadata": {},
          "execution_count": 27
        }
      ]
    },
    {
      "cell_type": "code",
      "metadata": {
        "colab": {
          "base_uri": "https://localhost:8080/"
        },
        "id": "Zt4fKnwWIN4F",
        "outputId": "9c344431-e5a2-45e3-f596-a232b7ad5f66"
      },
      "source": [
        "# slice com step não declarado\n",
        "# step igual a 1\n",
        "x[2:5]"
      ],
      "execution_count": 28,
      "outputs": [
        {
          "output_type": "execute_result",
          "data": {
            "text/plain": [
              "['terceiro', 'quarto', 'quinto']"
            ]
          },
          "metadata": {},
          "execution_count": 28
        }
      ]
    },
    {
      "cell_type": "markdown",
      "metadata": {
        "id": "kaDByyvHITwh"
      },
      "source": [
        ""
      ]
    },
    {
      "cell_type": "code",
      "metadata": {
        "colab": {
          "base_uri": "https://localhost:8080/"
        },
        "id": "C-YrvFAVIr_A",
        "outputId": "adb52b8c-fb1c-4942-e598-c243dfab8a95"
      },
      "source": [
        "#Se o step for igual a doiso slice vai pular um elemento a cada passo\n",
        "x[1:5:2]"
      ],
      "execution_count": 29,
      "outputs": [
        {
          "output_type": "execute_result",
          "data": {
            "text/plain": [
              "['segundo', 'quarto']"
            ]
          },
          "metadata": {},
          "execution_count": 29
        }
      ]
    },
    {
      "cell_type": "markdown",
      "metadata": {
        "id": "Rp2Lk20FQJqj"
      },
      "source": [
        "Função Len : Essa função retorna a quantidade de elementos dentro de uma lista. "
      ]
    },
    {
      "cell_type": "code",
      "metadata": {
        "id": "cdfulUutQLrp"
      },
      "source": [
        "len(x)\n",
        "7"
      ],
      "execution_count": null,
      "outputs": []
    },
    {
      "cell_type": "markdown",
      "metadata": {
        "id": "fgBbOrE2QVPW"
      },
      "source": [
        "Funções min e max:"
      ]
    },
    {
      "cell_type": "code",
      "metadata": {
        "colab": {
          "base_uri": "https://localhost:8080/",
          "height": 35
        },
        "id": "ZuL3H_C6QW-H",
        "outputId": "1fd1d23b-21d1-4379-8097-ecbc7fad81bd"
      },
      "source": [
        "min(['a','b','c','d','e','f','g'])\n"
      ],
      "execution_count": 35,
      "outputs": [
        {
          "output_type": "execute_result",
          "data": {
            "application/vnd.google.colaboratory.intrinsic+json": {
              "type": "string"
            },
            "text/plain": [
              "'a'"
            ]
          },
          "metadata": {},
          "execution_count": 35
        }
      ]
    },
    {
      "cell_type": "code",
      "metadata": {
        "colab": {
          "base_uri": "https://localhost:8080/"
        },
        "id": "Y14coXSkQ3Tf",
        "outputId": "9ac31d11-c9f2-4ca7-bfc0-4ed198d66a94"
      },
      "source": [
        "max([0,3,1,8,10,1,20])"
      ],
      "execution_count": 36,
      "outputs": [
        {
          "output_type": "execute_result",
          "data": {
            "text/plain": [
              "20"
            ]
          },
          "metadata": {},
          "execution_count": 36
        }
      ]
    },
    {
      "cell_type": "markdown",
      "metadata": {
        "id": "WYYN6nYBRCkC"
      },
      "source": [
        "Função sum:"
      ]
    },
    {
      "cell_type": "code",
      "metadata": {
        "colab": {
          "base_uri": "https://localhost:8080/"
        },
        "id": "uNQ8kuhzRDXu",
        "outputId": "d087eeae-a863-4968-b3ab-2103e2d38c71"
      },
      "source": [
        "#calcular a soma sobre a lista com a função sum(). \n",
        "sum([10,20,30])"
      ],
      "execution_count": 37,
      "outputs": [
        {
          "output_type": "execute_result",
          "data": {
            "text/plain": [
              "60"
            ]
          },
          "metadata": {},
          "execution_count": 37
        }
      ]
    },
    {
      "cell_type": "markdown",
      "metadata": {
        "id": "tmMy2tEDRTjj"
      },
      "source": [
        "Função append:Essa função adiciona um elemento ao final da lista, aumentando sempre o tamanho em uma unidade. "
      ]
    },
    {
      "cell_type": "code",
      "metadata": {
        "colab": {
          "base_uri": "https://localhost:8080/"
        },
        "id": "LqVqYYl_RUQ4",
        "outputId": "aafe7cd7-6e3a-405b-9c09-bafcce5516ff"
      },
      "source": [
        "x = [1,2,3]\n",
        "x.append(4)\n",
        "x"
      ],
      "execution_count": 39,
      "outputs": [
        {
          "output_type": "execute_result",
          "data": {
            "text/plain": [
              "[1, 2, 3, 4]"
            ]
          },
          "metadata": {},
          "execution_count": 39
        }
      ]
    },
    {
      "cell_type": "markdown",
      "metadata": {
        "id": "WMTLwYS1RpTm"
      },
      "source": [
        "Função insert:Para inserir um elemento em outro lugar da lista que não seja só no final, é recomendado usar a função insert()"
      ]
    },
    {
      "cell_type": "code",
      "metadata": {
        "colab": {
          "base_uri": "https://localhost:8080/"
        },
        "id": "-v5214W2Ruuj",
        "outputId": "19d52e1f-8e39-4fd0-c136-df6a7cd6e8f4"
      },
      "source": [
        "x.insert(0,0.42)\n",
        "x"
      ],
      "execution_count": 43,
      "outputs": [
        {
          "output_type": "execute_result",
          "data": {
            "text/plain": [
              "[0.42, 0.42, 1, 2, 3, 4]"
            ]
          },
          "metadata": {},
          "execution_count": 43
        }
      ]
    },
    {
      "cell_type": "markdown",
      "metadata": {
        "id": "aif5gX2XSLAb"
      },
      "source": [
        "Função remove():permite remover um elemento da lista usando como entrada o elemento que se quer remover. Se houver elementos repetidos, remove a primeira ocorrência do elemento, mantendo os outros na lista. Para remover mais, deve-se chamar novamente a função na lista."
      ]
    },
    {
      "cell_type": "code",
      "metadata": {
        "id": "r2U1D30TSRFX"
      },
      "source": [
        "x = [1,2,2,3,4]\n",
        "x.remove(2)\n"
      ],
      "execution_count": 51,
      "outputs": []
    },
    {
      "cell_type": "code",
      "metadata": {
        "id": "OoyatCnYS0zH"
      },
      "source": [
        ""
      ],
      "execution_count": 50,
      "outputs": []
    }
  ]
}