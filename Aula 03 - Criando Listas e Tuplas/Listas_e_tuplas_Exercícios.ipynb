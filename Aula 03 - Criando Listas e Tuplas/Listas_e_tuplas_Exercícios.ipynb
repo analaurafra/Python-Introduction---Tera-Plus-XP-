{
  "nbformat": 4,
  "nbformat_minor": 0,
  "metadata": {
    "colab": {
      "name": "Listas e tuplas - Exercícios",
      "provenance": []
    },
    "kernelspec": {
      "name": "python3",
      "display_name": "Python 3"
    },
    "language_info": {
      "name": "python"
    }
  },
  "cells": [
    {
      "cell_type": "markdown",
      "metadata": {
        "id": "y4yXQaM1oZJt"
      },
      "source": [
        "#Listas e tuplas\n",
        "Alguns exercícios para você praticar o que apredendeu sobre listas e tuplas"
      ]
    },
    {
      "cell_type": "markdown",
      "metadata": {
        "id": "foQHMOI1lPZ6"
      },
      "source": [
        "### Crie uma lista\n",
        "\n",
        "Criar uma lista com suas comidas favoritas e salve na variavel comida"
      ]
    },
    {
      "cell_type": "code",
      "metadata": {
        "id": "7zHHF7qfnRZe",
        "outputId": "3e7f9d73-1746-45a8-8496-331f95bf50da",
        "colab": {
          "base_uri": "https://localhost:8080/"
        }
      },
      "source": [
        "#Escreva seu código aqui\n",
        "comidasFavoritas = ('arroz, pizza, macarrão',)\n",
        "print(type(comidasFavoritas))\n",
        "comidasFavoritas"
      ],
      "execution_count": 4,
      "outputs": [
        {
          "output_type": "stream",
          "name": "stdout",
          "text": [
            "<class 'tuple'>\n"
          ]
        },
        {
          "output_type": "execute_result",
          "data": {
            "text/plain": [
              "('arroz, pizza, macarrão',)"
            ]
          },
          "metadata": {},
          "execution_count": 4
        }
      ]
    },
    {
      "cell_type": "code",
      "metadata": {
        "id": "4IR78Lj5kmoo"
      },
      "source": [
        "#@title  { display-mode: \"form\" }\n",
        "comidas = ['pudim', 'batata', 'lasanha']"
      ],
      "execution_count": null,
      "outputs": []
    },
    {
      "cell_type": "markdown",
      "metadata": {
        "id": "B9ylDfDaoIr7"
      },
      "source": [
        "### Crie uma nova lista com a quantidade de calorias de cada comida que você citou no exercício anterior e salve na variável `calorias`"
      ]
    },
    {
      "cell_type": "code",
      "metadata": {
        "id": "ht2rHZGGnNhP",
        "outputId": "5777b47d-f89d-4ad5-b1b3-8368457d3755",
        "colab": {
          "base_uri": "https://localhost:8080/"
        }
      },
      "source": [
        "#Criando uma lista com qtde de calorias\n",
        "calorias = [150, 250,300]\n",
        "print(type(calorias))\n",
        "calorias"
      ],
      "execution_count": 5,
      "outputs": [
        {
          "output_type": "stream",
          "name": "stdout",
          "text": [
            "<class 'list'>\n"
          ]
        },
        {
          "output_type": "execute_result",
          "data": {
            "text/plain": [
              "[150, 250, 300]"
            ]
          },
          "metadata": {},
          "execution_count": 5
        }
      ]
    },
    {
      "cell_type": "code",
      "metadata": {
        "id": "n1tUmT89ou-X"
      },
      "source": [
        "#@title  { display-mode: \"form\" }\n",
        "calorias = [1500, 300, 800]"
      ],
      "execution_count": null,
      "outputs": []
    },
    {
      "cell_type": "markdown",
      "metadata": {
        "id": "pebRpt7lo7Gu"
      },
      "source": [
        "### Com a função `sum` descubra a quantidade total de calorias"
      ]
    },
    {
      "cell_type": "code",
      "metadata": {
        "id": "FB9niMMjpKEb",
        "outputId": "1666b21e-5510-4e14-e3a1-1b5cb5f27931",
        "colab": {
          "base_uri": "https://localhost:8080/"
        }
      },
      "source": [
        "#descobrindo a quantidade de calorias\n",
        "sum(calorias)"
      ],
      "execution_count": 6,
      "outputs": [
        {
          "output_type": "execute_result",
          "data": {
            "text/plain": [
              "700"
            ]
          },
          "metadata": {},
          "execution_count": 6
        }
      ]
    },
    {
      "cell_type": "code",
      "metadata": {
        "id": "FkGxFRVspLC6"
      },
      "source": [
        "#@title  { display-mode: \"form\" }\n",
        "sum(calorias)"
      ],
      "execution_count": null,
      "outputs": []
    },
    {
      "cell_type": "markdown",
      "metadata": {
        "id": "W0rV1snTpqY0"
      },
      "source": [
        "### Use os colchetes para para selecionar o primeiro item da variável `minha_lista`\n",
        "Dica: Lembre que o Python começa a contar no `0`"
      ]
    },
    {
      "cell_type": "code",
      "metadata": {
        "id": "qLkOUvjSppp0"
      },
      "source": [
        "# Rode essa célula\n",
        "a = 25\n",
        "minha_lista = [1, 2, 3, 'quatro', 5.1, [None, a]]"
      ],
      "execution_count": null,
      "outputs": []
    },
    {
      "cell_type": "code",
      "metadata": {
        "id": "tnVyK51JDL7C",
        "outputId": "c90bb1ee-bc8e-4d38-f363-e3a754a53912",
        "colab": {
          "base_uri": "https://localhost:8080/"
        }
      },
      "source": [
        "minha_lista [0]"
      ],
      "execution_count": 15,
      "outputs": [
        {
          "output_type": "execute_result",
          "data": {
            "text/plain": [
              "1"
            ]
          },
          "metadata": {},
          "execution_count": 15
        }
      ]
    },
    {
      "cell_type": "code",
      "metadata": {
        "id": "vDKMXrAXDgiz"
      },
      "source": [
        "#@title  { display-mode: \"form\" }\n",
        "minha_lista[0]"
      ],
      "execution_count": null,
      "outputs": []
    },
    {
      "cell_type": "markdown",
      "metadata": {
        "id": "tGptabUPCfwv"
      },
      "source": [
        "### Utilize o slice para selecionar do terceiro ao último item da `minha_lista`"
      ]
    },
    {
      "cell_type": "code",
      "metadata": {
        "id": "vBgRafgcD_NS",
        "outputId": "8d0d84ec-f944-4abd-9c08-537ce0f6606a",
        "colab": {
          "base_uri": "https://localhost:8080/"
        }
      },
      "source": [
        "minha_lista [3:]"
      ],
      "execution_count": 18,
      "outputs": [
        {
          "output_type": "execute_result",
          "data": {
            "text/plain": [
              "['quatro', 5.1, [None, 25]]"
            ]
          },
          "metadata": {},
          "execution_count": 18
        }
      ]
    },
    {
      "cell_type": "code",
      "metadata": {
        "id": "yc_KRsSHD_2s"
      },
      "source": [
        "#@title  { display-mode: \"form\" }\n",
        "minha_lista[2:]"
      ],
      "execution_count": null,
      "outputs": []
    },
    {
      "cell_type": "markdown",
      "metadata": {
        "id": "7EbnjKeiN6_c"
      },
      "source": [
        "#  Na seguinte lista multidimensional, acesse o item em negrito\n",
        "[[1,2,3],[4,5,6],[7,8,[9,**10**]]]\n",
        "<br><br>\n",
        "Dica: o índice `-1` seleciona o último elemento da lista"
      ]
    },
    {
      "cell_type": "code",
      "metadata": {
        "id": "Ya7F_kIhO2P_"
      },
      "source": [
        "#Rode esta célula\n",
        "lista_mult = [[1,2,3],[4,5,6],[7,8,[9,10]]]"
      ],
      "execution_count": 32,
      "outputs": []
    },
    {
      "cell_type": "code",
      "metadata": {
        "id": "iVZdm8ZhO_X2"
      },
      "source": [
        "lista_mult[-1][-1][-1]"
      ],
      "execution_count": null,
      "outputs": []
    },
    {
      "cell_type": "code",
      "metadata": {
        "id": "cxZvnD8mO_Ax",
        "outputId": "56ccc572-3403-477d-9ee7-37ed5a1ffa53",
        "colab": {
          "base_uri": "https://localhost:8080/"
        }
      },
      "source": [
        "#@title  { display-mode: \"form\" }\n",
        "lista_mult[-1][-1][-1]"
      ],
      "execution_count": 35,
      "outputs": [
        {
          "output_type": "execute_result",
          "data": {
            "text/plain": [
              "10"
            ]
          },
          "metadata": {},
          "execution_count": 35
        }
      ]
    },
    {
      "cell_type": "markdown",
      "metadata": {
        "id": "0JvMlY5lKhJ1"
      },
      "source": [
        "### Em uma linha, desempacote os valores de `minha_tupla` nas variáveis `x`, `y` e `z`"
      ]
    },
    {
      "cell_type": "code",
      "metadata": {
        "id": "i2NpAnpGMxcf"
      },
      "source": [
        "#Rode esta célula\n",
        "minha_tupla = (10,20,30)"
      ],
      "execution_count": 44,
      "outputs": []
    },
    {
      "cell_type": "code",
      "metadata": {
        "id": "gLqP4z4jppKd"
      },
      "source": [
        "x,y,z = minha_tupla "
      ],
      "execution_count": 46,
      "outputs": []
    },
    {
      "cell_type": "code",
      "metadata": {
        "id": "gFFCuIyyM6JQ"
      },
      "source": [
        "#@title  { display-mode: \"form\" }\n",
        "x,y,z = minha_tupla"
      ],
      "execution_count": 42,
      "outputs": []
    },
    {
      "cell_type": "markdown",
      "metadata": {
        "id": "ru4wUDLTHzDa"
      },
      "source": [
        "### (Bônus) Você pode usar o slice em uma `string` assim como na lista. Selecione as 6 primeiras letras da variável `texto2`"
      ]
    },
    {
      "cell_type": "code",
      "metadata": {
        "colab": {
          "base_uri": "https://localhost:8080/"
        },
        "id": "ptZJBHzlIIX0",
        "outputId": "4df05703-3bc3-4986-dcc1-e98258132035"
      },
      "source": [
        "texto = \"Estou estudando Python!\"\n",
        "print(texto[0])\n",
        "print(texto[12])\n",
        "print(texto[12:21])"
      ],
      "execution_count": null,
      "outputs": [
        {
          "output_type": "stream",
          "text": [
            "E\n",
            "n\n",
            "ndo Pytho\n"
          ],
          "name": "stdout"
        }
      ]
    },
    {
      "cell_type": "code",
      "metadata": {
        "id": "969g49e1ITof",
        "outputId": "df2566e8-882c-473f-d9e1-c8da6714eac4",
        "colab": {
          "base_uri": "https://localhost:8080/"
        }
      },
      "source": [
        "#Rode essa célula\n",
        "texto2 = \"Listas e strings são legais\"\n",
        "print(texto2[0])\n",
        "print(texto2[5])\n",
        "print(texto2[10:20])"
      ],
      "execution_count": 51,
      "outputs": [
        {
          "output_type": "stream",
          "name": "stdout",
          "text": [
            "L\n",
            "s\n",
            "trings são\n"
          ]
        }
      ]
    },
    {
      "cell_type": "code",
      "metadata": {
        "id": "pf0xcIOcJKhw"
      },
      "source": [
        "#@title  { display-mode: \"form\" }\n",
        "texto2[0:6]"
      ],
      "execution_count": null,
      "outputs": []
    },
    {
      "cell_type": "code",
      "metadata": {
        "id": "sOB4VxveJOVg"
      },
      "source": [
        ""
      ],
      "execution_count": null,
      "outputs": []
    },
    {
      "cell_type": "markdown",
      "metadata": {
        "id": "AjcDIrJfJ93J"
      },
      "source": [
        "### (Debugging) Encontre e arrume o erro no código abaixo"
      ]
    },
    {
      "cell_type": "code",
      "metadata": {
        "id": "-QmDhOC3KGcD"
      },
      "source": [
        "bebidas = ['água', 'refrigerante', 'suco']\n",
        "\n",
        "terceira_bebida = bebidas[2]"
      ],
      "execution_count": 58,
      "outputs": []
    },
    {
      "cell_type": "code",
      "metadata": {
        "id": "gls4e5GWKYXx"
      },
      "source": [
        ""
      ],
      "execution_count": null,
      "outputs": []
    }
  ]
}