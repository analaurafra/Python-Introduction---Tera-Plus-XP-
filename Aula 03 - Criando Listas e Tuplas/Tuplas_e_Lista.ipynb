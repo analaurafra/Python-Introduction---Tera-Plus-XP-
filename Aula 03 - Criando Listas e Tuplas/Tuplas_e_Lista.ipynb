{
  "nbformat": 4,
  "nbformat_minor": 0,
  "metadata": {
    "colab": {
      "name": "Tuplas e Lista ",
      "provenance": []
    },
    "kernelspec": {
      "name": "python3",
      "display_name": "Python 3"
    },
    "language_info": {
      "name": "python"
    }
  },
  "cells": [
    {
      "cell_type": "markdown",
      "metadata": {
        "id": "YMLNVbgGbmM1"
      },
      "source": [
        "Criação de Tuplas\n",
        "\n",
        "Tuplas são uma estrutura básica de sequência mais conservadora, que não permite alterações dos seus elementos após criada. Por esse motivo, é chamada de sequência imutável ou estática.\n",
        "\n",
        "Assim como as listas podemos criar as tuplas de duas maneiras, chamando o construtor tuple ou com **operador parênteses** em vez de colchetes."
      ]
    },
    {
      "cell_type": "code",
      "metadata": {
        "colab": {
          "base_uri": "https://localhost:8080/"
        },
        "id": "M63pSVByao2f",
        "outputId": "841c4d92-2399-4638-9bbe-4b0a136745f3"
      },
      "source": [
        "#criação de tuplas\n",
        "x = (1,2,3)\n",
        "print(type(x))\n",
        "x"
      ],
      "execution_count": 1,
      "outputs": [
        {
          "output_type": "stream",
          "name": "stdout",
          "text": [
            "<class 'tuple'>\n"
          ]
        },
        {
          "output_type": "execute_result",
          "data": {
            "text/plain": [
              "(1, 2, 3)"
            ]
          },
          "metadata": {},
          "execution_count": 1
        }
      ]
    },
    {
      "cell_type": "code",
      "metadata": {
        "colab": {
          "base_uri": "https://localhost:8080/"
        },
        "id": "b_3Ex1hheDVY",
        "outputId": "a64a5230-ca7e-417b-9a86-8e3a79c252fb"
      },
      "source": [
        "#menor tupla possível\n",
        "x = ('qualquer elemento', )\n",
        "print(type(x))\n",
        "x"
      ],
      "execution_count": 2,
      "outputs": [
        {
          "output_type": "stream",
          "name": "stdout",
          "text": [
            "<class 'tuple'>\n"
          ]
        },
        {
          "output_type": "execute_result",
          "data": {
            "text/plain": [
              "('qualquer elemento',)"
            ]
          },
          "metadata": {},
          "execution_count": 2
        }
      ]
    },
    {
      "cell_type": "code",
      "metadata": {
        "colab": {
          "base_uri": "https://localhost:8080/",
          "height": 52
        },
        "id": "HZqF5-EUeoJo",
        "outputId": "b1b6452c-6eb2-49aa-fdd8-4e63ecbad262"
      },
      "source": [
        "#falha em criar a tupla\n",
        "x = ('qualquer elemento')\n",
        "print(type(x))\n",
        "x"
      ],
      "execution_count": 4,
      "outputs": [
        {
          "output_type": "stream",
          "name": "stdout",
          "text": [
            "<class 'str'>\n"
          ]
        },
        {
          "output_type": "execute_result",
          "data": {
            "application/vnd.google.colaboratory.intrinsic+json": {
              "type": "string"
            },
            "text/plain": [
              "'qualquer elemento'"
            ]
          },
          "metadata": {},
          "execution_count": 4
        }
      ]
    },
    {
      "cell_type": "markdown",
      "metadata": {
        "id": "LCwsfo-ifSmc"
      },
      "source": [
        "**Tuplas vs Listas**\n",
        "\n",
        "A principal **vantagem** da tupla sobre a lista é que, por ser uma estrutura estática, é muito mais simples de armazenar em memória, gastando menos espaço. A lista precisa de muito mais variáveis para ser eficiente, além de ter métodos específicos de edição.\n",
        "\n",
        "A principal **desvantagem** da tupla é que toda vez que se quer alterar, é necessário construir uma nova tupla com a modificação. Isso pode pesar na memória e tornar qualquer programa ineficiente muito rápido, principalmente quando grandes quantidades de dados estão na tupla."
      ]
    },
    {
      "cell_type": "code",
      "metadata": {
        "colab": {
          "base_uri": "https://localhost:8080/"
        },
        "id": "-7kJKwwEfU_G",
        "outputId": "9fd1a72a-16b0-4d06-ef9e-e300d87c224d"
      },
      "source": [
        "#tupla original \n",
        "x = (1,2,3,4,5,6,7,8,9)\n",
        "x"
      ],
      "execution_count": 5,
      "outputs": [
        {
          "output_type": "execute_result",
          "data": {
            "text/plain": [
              "(1, 2, 3, 4, 5, 6, 7, 8, 9)"
            ]
          },
          "metadata": {},
          "execution_count": 5
        }
      ]
    },
    {
      "cell_type": "code",
      "metadata": {
        "colab": {
          "base_uri": "https://localhost:8080/"
        },
        "id": "hFg-k52mfuxc",
        "outputId": "ff08eb98-d859-4c90-a685-bc7e85f369bf"
      },
      "source": [
        "# revertendo a tupla\n",
        "x[::-1]"
      ],
      "execution_count": 6,
      "outputs": [
        {
          "output_type": "execute_result",
          "data": {
            "text/plain": [
              "(9, 8, 7, 6, 5, 4, 3, 2, 1)"
            ]
          },
          "metadata": {},
          "execution_count": 6
        }
      ]
    },
    {
      "cell_type": "code",
      "metadata": {
        "colab": {
          "base_uri": "https://localhost:8080/"
        },
        "id": "5zmz7rE6f8h7",
        "outputId": "810f02b8-0613-405b-ca26-82968292602f"
      },
      "source": [
        "#criando uma lista e uma tuplas iguais\n",
        "xls = [1,2,3,4,5]\n",
        "xtp = (1,2,3,4,5)\n",
        "xls, xtp"
      ],
      "execution_count": 7,
      "outputs": [
        {
          "output_type": "execute_result",
          "data": {
            "text/plain": [
              "([1, 2, 3, 4, 5], (1, 2, 3, 4, 5))"
            ]
          },
          "metadata": {},
          "execution_count": 7
        }
      ]
    },
    {
      "cell_type": "code",
      "metadata": {
        "colab": {
          "base_uri": "https://localhost:8080/"
        },
        "id": "yfWO8C9zgcRZ",
        "outputId": "2685e2eb-c7cb-43a0-da29-20179ff27e7f"
      },
      "source": [
        "# edição de lista ok\n",
        "xls [2] = -5\n",
        "xls"
      ],
      "execution_count": 8,
      "outputs": [
        {
          "output_type": "execute_result",
          "data": {
            "text/plain": [
              "[1, 2, -5, 4, 5]"
            ]
          },
          "metadata": {},
          "execution_count": 8
        }
      ]
    },
    {
      "cell_type": "code",
      "metadata": {
        "colab": {
          "base_uri": "https://localhost:8080/",
          "height": 197
        },
        "id": "qAP_-h-fgzVQ",
        "outputId": "2ff06809-15cb-4147-8885-70a0d1e4abb3"
      },
      "source": [
        "# edição da tupla - levanta um erro\n",
        "xtp [2] = -5\n",
        "xtp"
      ],
      "execution_count": 9,
      "outputs": [
        {
          "output_type": "error",
          "ename": "TypeError",
          "evalue": "ignored",
          "traceback": [
            "\u001b[0;31m---------------------------------------------------------------------------\u001b[0m",
            "\u001b[0;31mTypeError\u001b[0m                                 Traceback (most recent call last)",
            "\u001b[0;32m<ipython-input-9-acd74061830a>\u001b[0m in \u001b[0;36m<module>\u001b[0;34m()\u001b[0m\n\u001b[1;32m      1\u001b[0m \u001b[0;31m# edição da tupla - levanta um erro\u001b[0m\u001b[0;34m\u001b[0m\u001b[0;34m\u001b[0m\u001b[0;34m\u001b[0m\u001b[0m\n\u001b[0;32m----> 2\u001b[0;31m \u001b[0mxtp\u001b[0m \u001b[0;34m[\u001b[0m\u001b[0;36m2\u001b[0m\u001b[0;34m]\u001b[0m \u001b[0;34m=\u001b[0m \u001b[0;34m-\u001b[0m\u001b[0;36m5\u001b[0m\u001b[0;34m\u001b[0m\u001b[0;34m\u001b[0m\u001b[0m\n\u001b[0m\u001b[1;32m      3\u001b[0m \u001b[0mxtp\u001b[0m\u001b[0;34m\u001b[0m\u001b[0;34m\u001b[0m\u001b[0m\n",
            "\u001b[0;31mTypeError\u001b[0m: 'tuple' object does not support item assignment"
          ]
        }
      ]
    }
  ]
}