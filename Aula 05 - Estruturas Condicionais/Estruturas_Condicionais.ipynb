{
  "nbformat": 4,
  "nbformat_minor": 0,
  "metadata": {
    "colab": {
      "name": "Estruturas Condicionais ",
      "provenance": []
    },
    "kernelspec": {
      "name": "python3",
      "display_name": "Python 3"
    },
    "language_info": {
      "name": "python"
    }
  },
  "cells": [
    {
      "cell_type": "markdown",
      "metadata": {
        "id": "fM8UOaHYLCFo"
      },
      "source": [
        "**Estruturas Condiconais em Python**"
      ]
    },
    {
      "cell_type": "code",
      "metadata": {
        "colab": {
          "base_uri": "https://localhost:8080/"
        },
        "id": "l_WWzYy1K-jo",
        "outputId": "166273d8-8e0d-441f-dd97-162941609400"
      },
      "source": [
        "print(\"Situação:\")\n",
        "print(\"Se fizer sol amanhã, farei um churrasco. Caso contrário, não farei\")"
      ],
      "execution_count": null,
      "outputs": [
        {
          "output_type": "stream",
          "name": "stdout",
          "text": [
            "Situação:\n",
            "Se fizer sol amanhã, farei um churrasco. Caso contrário, não farei\n"
          ]
        }
      ]
    },
    {
      "cell_type": "code",
      "metadata": {
        "colab": {
          "base_uri": "https://localhost:8080/"
        },
        "id": "-05nY3LaCYFd",
        "outputId": "95b8dc99-421d-4ce0-fc68-ec1be58e3132"
      },
      "source": [
        "print(\"Fez sol? Não\")\n",
        "resultado = \"Não fez churrasco\"\n",
        "print(\"Resultaddo\")\n",
        "print(resultado) "
      ],
      "execution_count": null,
      "outputs": [
        {
          "output_type": "stream",
          "name": "stdout",
          "text": [
            "Fez sol? Não\n",
            "Resultaddo\n",
            "Não fez churrasco\n"
          ]
        }
      ]
    },
    {
      "cell_type": "code",
      "metadata": {
        "colab": {
          "base_uri": "https://localhost:8080/"
        },
        "id": "ItDjygb6DNyN",
        "outputId": "af9c7c95-2911-47b2-afad-65ca559f8942"
      },
      "source": [
        "print(\"Fez sol? Sim\")\n",
        "resultado = \"Fez churrasco\"\n",
        "print(\"Resultaddo\")\n",
        "print(resultado) "
      ],
      "execution_count": null,
      "outputs": [
        {
          "output_type": "stream",
          "name": "stdout",
          "text": [
            "Fez sol? Sim\n",
            "Resultaddo\n",
            "Fez churrasco\n"
          ]
        }
      ]
    },
    {
      "cell_type": "markdown",
      "metadata": {
        "id": "OgM2u10gGm6G"
      },
      "source": [
        "Como representar uma condição em Python?"
      ]
    },
    {
      "cell_type": "code",
      "metadata": {
        "id": "d0jNwL3zIYks"
      },
      "source": [
        "tempo=\"Sol\"\n"
      ],
      "execution_count": null,
      "outputs": []
    },
    {
      "cell_type": "code",
      "metadata": {
        "id": "NWMrbRf0Ieea",
        "colab": {
          "base_uri": "https://localhost:8080/"
        },
        "outputId": "1be31d26-7b13-45b1-b695-af9bb9219c56"
      },
      "source": [
        "tempo=\"Sol\"\n",
        "if tempo==\"Sol\":\n",
        "    print(\"Fiz Churrasco\")\n"
      ],
      "execution_count": 52,
      "outputs": [
        {
          "output_type": "stream",
          "name": "stdout",
          "text": [
            "Fiz Churrasco\n"
          ]
        }
      ]
    },
    {
      "cell_type": "code",
      "metadata": {
        "id": "au0S2t3XJ7TJ",
        "colab": {
          "base_uri": "https://localhost:8080/"
        },
        "outputId": "cc19f5c8-c38d-43a4-ff23-703dadc3568f"
      },
      "source": [
        "tempo=\"Sol\"\n",
        "if tempo==\"Sol\":\n",
        "    print(\"Fiz Churrasco\")\n",
        "    print(\"Ficou muito gostoso\")\n",
        "print(\"Independente do tempo, comi pudim\")"
      ],
      "execution_count": 53,
      "outputs": [
        {
          "output_type": "stream",
          "name": "stdout",
          "text": [
            "Fiz Churrasco\n",
            "Ficou muito gostoso\n",
            "Independente do tempo, comi pudim\n"
          ]
        }
      ]
    },
    {
      "cell_type": "code",
      "metadata": {
        "colab": {
          "base_uri": "https://localhost:8080/"
        },
        "id": "pmo9MyDuKw4p",
        "outputId": "51a8cbe5-498b-4d25-adaa-64968d3adc02"
      },
      "source": [
        "tempo=\"Sol\"\n",
        "if tempo==\"Chuva\":\n",
        "  print(\"Fiz Churrasco\")\n",
        "  print(\"Ficou muito gostoso\")\n",
        "print(\"Independente do tempo, comi pudim\")"
      ],
      "execution_count": 54,
      "outputs": [
        {
          "output_type": "stream",
          "name": "stdout",
          "text": [
            "Independente do tempo, comi pudim\n"
          ]
        }
      ]
    },
    {
      "cell_type": "code",
      "metadata": {
        "colab": {
          "base_uri": "https://localhost:8080/"
        },
        "id": "Mlv_GLahLmZG",
        "outputId": "8995f293-821f-4bb2-ddd3-474cafb6998b"
      },
      "source": [
        "tempo = \"Sol\"\n",
        "\n",
        "if tempo==\"Sol\":\n",
        "  print(\"Tomei sorvete\")\n",
        "else:\n",
        "  print(\"Tomei Sopa\")\n",
        "\n"
      ],
      "execution_count": 51,
      "outputs": [
        {
          "output_type": "stream",
          "name": "stdout",
          "text": [
            "Tomei sorvete\n"
          ]
        }
      ]
    },
    {
      "cell_type": "code",
      "metadata": {
        "colab": {
          "base_uri": "https://localhost:8080/"
        },
        "id": "a_Txil6oNV-3",
        "outputId": "0e571384-d20a-44d6-c715-b5baa24cd843"
      },
      "source": [
        "tempo =\"chuva\"\n",
        "\n",
        "if tempo==\"Sol\":\n",
        "  print(\"Fez Sol\")\n",
        "else:\n",
        "   print(\"Tomei Sorvete\")\n",
        "print(\"Independente do tempo,comi pudim\")"
      ],
      "execution_count": 59,
      "outputs": [
        {
          "output_type": "stream",
          "name": "stdout",
          "text": [
            "Tomei Sorvete\n",
            "Independente do tempo,comi pudim\n"
          ]
        }
      ]
    },
    {
      "cell_type": "markdown",
      "metadata": {
        "id": "TS5lMHT5N7z_"
      },
      "source": [
        "Encadeando multiplas condições em python"
      ]
    },
    {
      "cell_type": "code",
      "metadata": {
        "colab": {
          "base_uri": "https://localhost:8080/"
        },
        "id": "Spxw96xwN2dO",
        "outputId": "9e3a6733-e547-4ad5-9b50-9d6ef048f38b"
      },
      "source": [
        "tempo = \"Nublado\"\n",
        "\n",
        "if tempo==\"Sol\":\n",
        "  print(\"Bora pra praia?\")\n",
        "else:\n",
        "  if tempo==\"Chuva\":\n",
        "    print(\"Bora para Campos dos Jordão?\")\n",
        "  else:\n",
        "    print(\"Bora para o Rio de Janeiro?\")\n"
      ],
      "execution_count": 61,
      "outputs": [
        {
          "output_type": "stream",
          "name": "stdout",
          "text": [
            "Bora para o Rio de Janeiro?\n"
          ]
        }
      ]
    },
    {
      "cell_type": "markdown",
      "metadata": {
        "id": "9iv3LYDahrKO"
      },
      "source": [
        "# Utilizando else \n",
        "\n"
      ]
    },
    {
      "cell_type": "code",
      "metadata": {
        "colab": {
          "base_uri": "https://localhost:8080/"
        },
        "id": "maqCIUtHcSyT",
        "outputId": "a272f0dd-4489-4e04-8ec0-3adaad906f07"
      },
      "source": [
        "tempo = \"Nublado\"\n",
        "\n",
        "if tempo==\"Sol\":\n",
        "   print(\"Bora pra praia?\")\n",
        "else:\n",
        "    if tempo==\"Chuva\":\n",
        "       print(\"Bora para Campos dos Jordão?\")\n",
        "    else:\n",
        "        if tempo==\"Nublado\":\n",
        "           print(\"Bora para São Paulo?\")\n",
        "        else:\n",
        "            if tempo==\"Neve\":\n",
        "               print(\"Bora pra Bariloche?\")\n",
        "            else:  \n",
        "                print(\"Esquece, vamos assitir Netflix\")          \n"
      ],
      "execution_count": 71,
      "outputs": [
        {
          "output_type": "stream",
          "name": "stdout",
          "text": [
            "Bora para São Paulo?\n"
          ]
        }
      ]
    },
    {
      "cell_type": "markdown",
      "metadata": {
        "id": "mUkwY9U6hTdb"
      },
      "source": [
        "# Utilizando else if **elif**\n",
        "\n",
        "> Bloco com recuo\n",
        "\n"
      ]
    },
    {
      "cell_type": "code",
      "metadata": {
        "colab": {
          "base_uri": "https://localhost:8080/"
        },
        "id": "z6LphzDzf9G5",
        "outputId": "e03e2f19-16d1-4165-cd9f-37d8410b62f2"
      },
      "source": [
        "tempo = \"Nublado\"\n",
        "\n",
        "if tempo==\"Sol\":\n",
        "   print(\"Bora pra praia?\")\n",
        "elif tempo==\"Chuva\":\n",
        "    print(\"Bora para Campos dos Jordão?\")\n",
        "elif tempo==\"Nublado\":\n",
        "    print(\"Bora para São Paulo?\")\n",
        "elif tempo==\"Neve\":\n",
        "    print(\"Bora para Porto Alegre\")\n",
        "else:  \n",
        "    print(\"Esquece, vamos assitir Netflix\")          "
      ],
      "execution_count": 74,
      "outputs": [
        {
          "output_type": "stream",
          "name": "stdout",
          "text": [
            "Bora para São Paulo?\n"
          ]
        }
      ]
    }
  ]
}