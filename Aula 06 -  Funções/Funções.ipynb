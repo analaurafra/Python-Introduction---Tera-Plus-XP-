{
  "nbformat": 4,
  "nbformat_minor": 0,
  "metadata": {
    "colab": {
      "name": "Funções ",
      "provenance": []
    },
    "kernelspec": {
      "name": "python3",
      "display_name": "Python 3"
    },
    "language_info": {
      "name": "python"
    }
  },
  "cells": [
    {
      "cell_type": "markdown",
      "metadata": {
        "id": "7_yzKPAkJq4I"
      },
      "source": [
        "Funções"
      ]
    },
    {
      "cell_type": "code",
      "metadata": {
        "id": "bHb1kX9wJnou"
      },
      "source": [
        "#função que imprime \"Bom dia\"\n",
        "\n",
        "def dizer_bom_dia():\n",
        "    print('Bom dia')"
      ],
      "execution_count": 7,
      "outputs": []
    },
    {
      "cell_type": "code",
      "metadata": {
        "colab": {
          "base_uri": "https://localhost:8080/"
        },
        "id": "X1twGznZLV1M",
        "outputId": "f68defc2-234a-44dd-8e0b-c024ff47e19d"
      },
      "source": [
        "#A chamada correta da função  ( Sempre ne c)\n",
        "\n",
        "dizer_bom_dia()"
      ],
      "execution_count": 10,
      "outputs": [
        {
          "output_type": "stream",
          "name": "stdout",
          "text": [
            "Bom dia\n"
          ]
        }
      ]
    },
    {
      "cell_type": "code",
      "metadata": {
        "colab": {
          "base_uri": "https://localhost:8080/"
        },
        "id": "BXYjulkENHnq",
        "outputId": "e0881453-5504-44d1-f397-7d5ab7d2033e"
      },
      "source": [
        "#A função incorreta\n",
        "dizer_bom_dia"
      ],
      "execution_count": 11,
      "outputs": [
        {
          "output_type": "execute_result",
          "data": {
            "text/plain": [
              "<function __main__.dizer_bom_dia>"
            ]
          },
          "metadata": {},
          "execution_count": 11
        }
      ]
    },
    {
      "cell_type": "markdown",
      "metadata": {
        "id": "eFCLShOUN0mj"
      },
      "source": [
        "Argumentos da Função - A convesão Pep8 segue os mesmos principios em funções"
      ]
    },
    {
      "cell_type": "code",
      "metadata": {
        "id": "65ESnndvN7K2"
      },
      "source": [
        "#Função para somar dois números\n",
        "\n",
        "def soma_dois_numeros(n1,n2):\n",
        "    return n1 + n2"
      ],
      "execution_count": 17,
      "outputs": []
    },
    {
      "cell_type": "code",
      "metadata": {
        "colab": {
          "base_uri": "https://localhost:8080/"
        },
        "id": "E8zYp1YgO7YU",
        "outputId": "ca9de61f-1aac-4e2b-ac5c-430295a62e91"
      },
      "source": [
        "#chamando a função\n",
        "soma_dois_numeros(23,44)"
      ],
      "execution_count": 20,
      "outputs": [
        {
          "output_type": "execute_result",
          "data": {
            "text/plain": [
              "67"
            ]
          },
          "metadata": {},
          "execution_count": 20
        }
      ]
    },
    {
      "cell_type": "code",
      "metadata": {
        "id": "SX1dy0y4Pc5V"
      },
      "source": [
        ""
      ],
      "execution_count": null,
      "outputs": []
    },
    {
      "cell_type": "markdown",
      "metadata": {
        "id": "zymddQDWPixB"
      },
      "source": [
        "Função anônima ou lambda em Python"
      ]
    },
    {
      "cell_type": "code",
      "metadata": {
        "colab": {
          "base_uri": "https://localhost:8080/"
        },
        "id": "O87y9VXfN7NP",
        "outputId": "b761d626-9bf6-4170-91e5-ad10bba4f283"
      },
      "source": [
        "#Atribuindo o Lambda para poder demonstrar\n",
        "fn = lambda x : x**2\n",
        "fn(12)"
      ],
      "execution_count": 22,
      "outputs": [
        {
          "output_type": "execute_result",
          "data": {
            "text/plain": [
              "144"
            ]
          },
          "metadata": {},
          "execution_count": 22
        }
      ]
    },
    {
      "cell_type": "markdown",
      "metadata": {
        "id": "--Alf7ttQwSg"
      },
      "source": [
        "Função Sorted "
      ]
    },
    {
      "cell_type": "code",
      "metadata": {
        "colab": {
          "base_uri": "https://localhost:8080/"
        },
        "id": "OpvEEHvuN4Wu",
        "outputId": "52f90166-16f0-4d07-ea0c-dcb897aea1b6"
      },
      "source": [
        "#forma mais comum de utilizar o 'sorted'\n",
        "x = [1,2,5,4,3,9,7,8,6,10]\n",
        "sorted(x)\n",
        "     "
      ],
      "execution_count": 42,
      "outputs": [
        {
          "output_type": "execute_result",
          "data": {
            "text/plain": [
              "[1, 2, 3, 4, 5, 6, 7, 8, 9, 10]"
            ]
          },
          "metadata": {},
          "execution_count": 42
        }
      ]
    },
    {
      "cell_type": "code",
      "metadata": {
        "id": "nBiIIwiuV1_S"
      },
      "source": [
        ""
      ],
      "execution_count": null,
      "outputs": []
    },
    {
      "cell_type": "code",
      "metadata": {
        "colab": {
          "base_uri": "https://localhost:8080/"
        },
        "id": "S8xbXs5WRHDv",
        "outputId": "4f107937-0107-4294-a675-5d6c9bca558a"
      },
      "source": [
        "help(sorted)"
      ],
      "execution_count": 39,
      "outputs": [
        {
          "output_type": "stream",
          "name": "stdout",
          "text": [
            "Help on built-in function sorted in module builtins:\n",
            "\n",
            "sorted(iterable, /, *, key=None, reverse=False)\n",
            "    Return a new list containing all items from the iterable in ascending order.\n",
            "    \n",
            "    A custom key function can be supplied to customize the sort order, and the\n",
            "    reverse flag can be set to request the result in descending order.\n",
            "\n"
          ]
        }
      ]
    },
    {
      "cell_type": "code",
      "metadata": {
        "colab": {
          "base_uri": "https://localhost:8080/"
        },
        "id": "_TFk6Sb8SttI",
        "outputId": "66827601-0816-4b38-fdb3-356e4aa2a5c2"
      },
      "source": [
        "#exemplo de ordenação customizada: pares, depois ímpares\n",
        "x = [1, 5, 2, 4, 7, 8, 4, 2, 9]\n",
        "sorted(x)\n",
        "sorted(x, key=lambda x: x * 10 if (x % 2 == 1) else x)"
      ],
      "execution_count": 49,
      "outputs": [
        {
          "output_type": "execute_result",
          "data": {
            "text/plain": [
              "[2, 2, 4, 4, 8, 1, 5, 7, 9]"
            ]
          },
          "metadata": {},
          "execution_count": 49
        }
      ]
    },
    {
      "cell_type": "code",
      "metadata": {
        "colab": {
          "base_uri": "https://localhost:8080/"
        },
        "id": "b97k8ImGV__S",
        "outputId": "850b6890-2bd9-4026-f560-8ebf9b095a52"
      },
      "source": [
        "numeros = [1, 5, 2, 4, 7, 8, 4, 2, 9]\n",
        "sorted(numeros)\n",
        "sorted(numeros, key=lambda x: x * 10 if (x % 2 == 1) else x)"
      ],
      "execution_count": 47,
      "outputs": [
        {
          "output_type": "execute_result",
          "data": {
            "text/plain": [
              "[2, 2, 4, 4, 8, 1, 5, 7, 9]"
            ]
          },
          "metadata": {},
          "execution_count": 47
        }
      ]
    }
  ]
}