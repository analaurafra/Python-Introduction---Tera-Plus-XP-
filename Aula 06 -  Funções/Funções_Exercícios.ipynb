{
  "nbformat": 4,
  "nbformat_minor": 0,
  "metadata": {
    "colab": {
      "name": "Funções - Exercícios",
      "provenance": []
    },
    "kernelspec": {
      "name": "python3",
      "display_name": "Python 3"
    },
    "language_info": {
      "name": "python"
    }
  },
  "cells": [
    {
      "cell_type": "markdown",
      "metadata": {
        "id": "TB_-4RLajcD0"
      },
      "source": [
        "# Funções - Exercícios"
      ]
    },
    {
      "cell_type": "markdown",
      "metadata": {
        "id": "6CIshkdykSCO"
      },
      "source": [
        "### Crie uma função de nome `pedir_agua` e que apenas imprima \"Estou com sede!\"\n",
        "\n",
        "Depois, chame está função"
      ]
    },
    {
      "cell_type": "code",
      "metadata": {
        "id": "fNwBo5lSjX8I"
      },
      "source": [
        "def pedir_agua():\n",
        "    print('estou com sede')"
      ],
      "execution_count": 2,
      "outputs": []
    },
    {
      "cell_type": "code",
      "metadata": {
        "id": "q2AFjOt-W8RE",
        "outputId": "55eeb012-a9b9-49fb-e1d3-c1653e1ff846",
        "colab": {
          "base_uri": "https://localhost:8080/"
        }
      },
      "source": [
        "pedir_agua()"
      ],
      "execution_count": 3,
      "outputs": [
        {
          "output_type": "stream",
          "name": "stdout",
          "text": [
            "estou com sede\n"
          ]
        }
      ]
    },
    {
      "cell_type": "code",
      "metadata": {
        "id": "cu7rYftfXC8A"
      },
      "source": [
        ""
      ],
      "execution_count": null,
      "outputs": []
    },
    {
      "cell_type": "code",
      "metadata": {
        "id": "uZJ1VQtmW5rG"
      },
      "source": [
        ""
      ],
      "execution_count": null,
      "outputs": []
    },
    {
      "cell_type": "code",
      "metadata": {
        "id": "KFB_Yw_JkiFw"
      },
      "source": [
        "#@title  { display-mode: \"form\" }\n",
        "def pedir_agua():\n",
        "  print(\"Estou com sede\")\n",
        "\n",
        "pedir_agua()"
      ],
      "execution_count": null,
      "outputs": []
    },
    {
      "cell_type": "markdown",
      "metadata": {
        "id": "ZgUKyWAqk0Xy"
      },
      "source": [
        "### Crie uma função que multiplique três números\n",
        "Depois, chame essa função com os parâmetros: 10, 5, 12"
      ]
    },
    {
      "cell_type": "code",
      "metadata": {
        "id": "LTFQb6Rok61B"
      },
      "source": [
        "def multiplique_numeros(n1,n2,n3):\n",
        "    return n1 * n2 * n3"
      ],
      "execution_count": 12,
      "outputs": []
    },
    {
      "cell_type": "code",
      "metadata": {
        "id": "WkNNfXWJYMry",
        "outputId": "c8fdfc77-44d4-443d-e633-e2a651d0c98b",
        "colab": {
          "base_uri": "https://localhost:8080/"
        }
      },
      "source": [
        "multiplique_numeros(10,5,12)"
      ],
      "execution_count": 13,
      "outputs": [
        {
          "output_type": "execute_result",
          "data": {
            "text/plain": [
              "600"
            ]
          },
          "metadata": {},
          "execution_count": 13
        }
      ]
    },
    {
      "cell_type": "code",
      "metadata": {
        "id": "8vEZ9k5KXj5q"
      },
      "source": [
        "multiplique_numeros(10,5,12)\n"
      ],
      "execution_count": null,
      "outputs": []
    },
    {
      "cell_type": "code",
      "metadata": {
        "id": "BoUQBub1Xrof"
      },
      "source": [
        ""
      ],
      "execution_count": null,
      "outputs": []
    },
    {
      "cell_type": "code",
      "metadata": {
        "id": "1ncNH-fgXm26"
      },
      "source": [
        ""
      ],
      "execution_count": null,
      "outputs": []
    },
    {
      "cell_type": "code",
      "metadata": {
        "id": "LwJCwjp2XjF6"
      },
      "source": [
        ""
      ],
      "execution_count": null,
      "outputs": []
    },
    {
      "cell_type": "code",
      "metadata": {
        "id": "Py5vg3UWXdi6"
      },
      "source": [
        ""
      ],
      "execution_count": null,
      "outputs": []
    },
    {
      "cell_type": "code",
      "metadata": {
        "id": "zfXvSge0XW1a"
      },
      "source": [
        ""
      ],
      "execution_count": null,
      "outputs": []
    },
    {
      "cell_type": "code",
      "metadata": {
        "id": "oSUDysV8lScT"
      },
      "source": [
        "#@title  { display-mode: \"form\" }\n",
        "def multiplicar_numeros(a,b,c):\n",
        "  return a*b*c\n",
        "\n",
        "multiplicar_numeros(10, 5, 12)"
      ],
      "execution_count": null,
      "outputs": []
    },
    {
      "cell_type": "markdown",
      "metadata": {
        "id": "7z_areP2lSE1"
      },
      "source": [
        "### Crie uma função que receba uma temperatura em Celsius e retorne em Fahrenheit\n",
        "\n",
        "Converta as seguintes temperaturas 0°, 21°, 38°, 50°\n",
        "\n",
        "Dica: Para converter de Celsius para Fahrenheit, multiplique por 1.8 e some 32"
      ]
    },
    {
      "cell_type": "code",
      "metadata": {
        "id": "IxtPprj-l8rA",
        "outputId": "30bef5a3-417b-437b-9c83-c6ee7f023e16",
        "colab": {
          "base_uri": "https://localhost:8080/"
        }
      },
      "source": [
        "def converter_c_para_f(celsius):\n",
        "  fahrenheit = (celsius * 1.8 ) + 32\n",
        "  return fahrenheit\n",
        "\n",
        "print(converter_c_para_f(0))\n",
        "print(converter_c_para_f(21))\n",
        "print(converter_c_para_f(38))\n",
        "print(converter_c_para_f(50))"
      ],
      "execution_count": 11,
      "outputs": [
        {
          "output_type": "stream",
          "name": "stdout",
          "text": [
            "32.0\n",
            "69.80000000000001\n",
            "100.4\n",
            "122.0\n"
          ]
        }
      ]
    },
    {
      "cell_type": "code",
      "metadata": {
        "id": "kFkzyoInD4w-"
      },
      "source": [
        ""
      ],
      "execution_count": null,
      "outputs": []
    },
    {
      "cell_type": "code",
      "metadata": {
        "id": "eSIWeyjhl9dE"
      },
      "source": [
        "#@title  { display-mode: \"form\" }\n",
        "def converter_c_para_f(celsius):\n",
        "  fahrenheit = (celsius * 1.8 ) + 32\n",
        "  return fahrenheit\n",
        "\n",
        "print(converter_c_para_f(0))\n",
        "print(converter_c_para_f(21))\n",
        "print(converter_c_para_f(38))\n",
        "print(converter_c_para_f(50))"
      ],
      "execution_count": null,
      "outputs": []
    },
    {
      "cell_type": "markdown",
      "metadata": {
        "id": "zPq8jF68fLJ0"
      },
      "source": [
        "### Crie uma função com nome `converter_valor_absoluto` que recebe um número e retorna o valor absoluto deste número, ou seja:\n",
        "- se receber o número 8 retornará 8;\n",
        "- se receber o número -8, retornará 8 também.\n",
        "\n",
        "Teste  com os número `5` e `-5`"
      ]
    },
    {
      "cell_type": "code",
      "metadata": {
        "id": "YIb2y-p5fLbf"
      },
      "source": [
        "def converter_c_para_f(celsius):\n",
        "  fahrenheit = (celsius * 1.8 ) + 32\n",
        "  return fahrenheit\n",
        "\n",
        "print(converter_c_para_f(0))\n",
        "print(converter_c_para_f(21))\n",
        "print(converter_c_para_f(38))\n",
        "print(converter_c_para_f(50))"
      ],
      "execution_count": null,
      "outputs": []
    },
    {
      "cell_type": "code",
      "metadata": {
        "id": "YGUtJ-_BfLwR"
      },
      "source": [
        "#@title  { display-mode: \"form\" }\n",
        "\n",
        "def converter_valor_absoluto(num):\n",
        "  if num >= 0:\n",
        "    return num\n",
        "  else:\n",
        "    return -num\n",
        "\n",
        "print(converter_valor_absoluto(5))\n",
        "print(converter_valor_absoluto(-5))"
      ],
      "execution_count": null,
      "outputs": []
    },
    {
      "cell_type": "code",
      "metadata": {
        "id": "Idql7c1BftIT"
      },
      "source": [
        ""
      ],
      "execution_count": null,
      "outputs": []
    }
  ]
}