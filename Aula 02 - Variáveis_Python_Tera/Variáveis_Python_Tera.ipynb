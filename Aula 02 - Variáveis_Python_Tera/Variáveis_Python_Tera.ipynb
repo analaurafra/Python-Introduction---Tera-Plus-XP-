{
  "nbformat": 4,
  "nbformat_minor": 0,
  "metadata": {
    "colab": {
      "name": "Variáveis- Python - Tera ",
      "provenance": [],
      "toc_visible": true
    },
    "kernelspec": {
      "name": "python3",
      "display_name": "Python 3"
    },
    "language_info": {
      "name": "python"
    }
  },
  "cells": [
    {
      "cell_type": "markdown",
      "metadata": {
        "id": "Hd1uc42RJ9lT"
      },
      "source": [
        "Variáveis - Atrubuindo o valor 2 para ela:"
      ]
    },
    {
      "cell_type": "markdown",
      "metadata": {
        "id": "3oGh7QHWyhjF"
      },
      "source": [
        "# Nova seção"
      ]
    },
    {
      "cell_type": "markdown",
      "metadata": {
        "id": "ldugWNc3yjcI"
      },
      "source": [
        "# Nova seção"
      ]
    },
    {
      "cell_type": "code",
      "metadata": {
        "id": "AAHyjx9zKL9j"
      },
      "source": [
        "a = 2 \n"
      ],
      "execution_count": null,
      "outputs": []
    },
    {
      "cell_type": "markdown",
      "metadata": {
        "id": "bPMw5_doKXvR"
      },
      "source": [
        "Obs: Lembre-se de não confundir = ( atribuição) com == ( igual)"
      ]
    },
    {
      "cell_type": "markdown",
      "metadata": {
        "id": "6OQpuJzzKmHd"
      },
      "source": [
        "Operações com Variáveis\n"
      ]
    },
    {
      "cell_type": "code",
      "metadata": {
        "colab": {
          "base_uri": "https://localhost:8080/"
        },
        "id": "yi_NhIL5Ko0K",
        "outputId": "fe5a7846-a111-4f9a-ee3e-465edf1881b6"
      },
      "source": [
        "a=2\n",
        "b=4\n",
        "a+b"
      ],
      "execution_count": null,
      "outputs": [
        {
          "output_type": "execute_result",
          "data": {
            "text/plain": [
              "6"
            ]
          },
          "metadata": {},
          "execution_count": 2
        }
      ]
    },
    {
      "cell_type": "markdown",
      "metadata": {
        "id": "ANk85JM9LDBY"
      },
      "source": [
        "Segue a ordem da matemática ( Parênteses Primeiro ): Parêntese, Exponenação Multiplicação, Divisão, Adição, Subtração"
      ]
    },
    {
      "cell_type": "code",
      "metadata": {
        "colab": {
          "base_uri": "https://localhost:8080/"
        },
        "id": "NKQTZeN3L2tO",
        "outputId": "070513ce-5cab-46b0-e67d-8b4f378c5fbe"
      },
      "source": [
        "b**(1/2) + b*2 + b/(a-1)\n"
      ],
      "execution_count": null,
      "outputs": [
        {
          "output_type": "execute_result",
          "data": {
            "text/plain": [
              "14.0"
            ]
          },
          "metadata": {},
          "execution_count": 5
        }
      ]
    },
    {
      "cell_type": "markdown",
      "metadata": {
        "id": "U-PgSx7oMtFQ"
      },
      "source": [
        "Tipos de Variáveis em Python \n",
        "\n",
        "*  int - Interger (Inteiro) - Para numeros inteiros \n",
        "*  float - representa números flutuantes\n",
        "*  str - String - variáveis representa texto \n",
        "*  bool - armazena a True e False (Verdadeiro False)\n",
        "\n",
        "\n",
        "\n"
      ]
    },
    {
      "cell_type": "code",
      "metadata": {
        "id": "RiRhMvLyNily"
      },
      "source": [
        "mensagem = \"Exemplo de Mensagem\"\n",
        "idade = 25\n",
        "pi = 3.12\n",
        "Acertou = True\n"
      ],
      "execution_count": null,
      "outputs": []
    },
    {
      "cell_type": "code",
      "metadata": {
        "id": "Uv66OXabvME0"
      },
      "source": [
        "#testando as variáveis\n",
        "#String\n",
        "type(mensagem)"
      ],
      "execution_count": null,
      "outputs": []
    },
    {
      "cell_type": "code",
      "metadata": {
        "id": "l6T9g0LLvW59"
      },
      "source": [
        "#Numero Inteiro\n",
        "type(idade)"
      ],
      "execution_count": null,
      "outputs": []
    },
    {
      "cell_type": "code",
      "metadata": {
        "id": "vRi09_G1vk6o"
      },
      "source": [
        "#Numero Deci\n",
        "type(pi)"
      ],
      "execution_count": null,
      "outputs": []
    },
    {
      "cell_type": "code",
      "metadata": {
        "id": "vzCL1fWnwEC5"
      },
      "source": [
        "#Boleanos (True or False)\n",
        "type(Acertou)"
      ],
      "execution_count": null,
      "outputs": []
    },
    {
      "cell_type": "markdown",
      "metadata": {
        "id": "tTzH_7IKwfgr"
      },
      "source": [
        "Variáveis possuem tipo de acordo com seu atual valor:"
      ]
    },
    {
      "cell_type": "code",
      "metadata": {
        "id": "mLPm01hNw4BJ"
      },
      "source": [
        "a = 3\n",
        "type(a)"
      ],
      "execution_count": null,
      "outputs": []
    },
    {
      "cell_type": "code",
      "metadata": {
        "id": "X7erf9H_w-05"
      },
      "source": [
        "a = a/2\n",
        "type(a/2)"
      ],
      "execution_count": null,
      "outputs": []
    }
  ]
}