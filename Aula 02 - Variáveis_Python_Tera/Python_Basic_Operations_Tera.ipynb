{
  "nbformat": 4,
  "nbformat_minor": 0,
  "metadata": {
    "colab": {
      "name": "Python - Basic Operations - Tera",
      "provenance": []
    },
    "kernelspec": {
      "name": "python3",
      "display_name": "Python 3"
    },
    "language_info": {
      "name": "python"
    }
  },
  "cells": [
    {
      "cell_type": "markdown",
      "metadata": {
        "id": "2SGa5TJC-oWk"
      },
      "source": [
        "Soma"
      ]
    },
    {
      "cell_type": "markdown",
      "metadata": {
        "id": "7IVnPNBB_Tvg"
      },
      "source": [
        ""
      ]
    },
    {
      "cell_type": "code",
      "metadata": {
        "id": "F1fIHLJN-tMK"
      },
      "source": [
        "3+2\n"
      ],
      "execution_count": null,
      "outputs": []
    },
    {
      "cell_type": "markdown",
      "metadata": {
        "id": "wnNpVivK-gH0"
      },
      "source": [
        "Subtração"
      ]
    },
    {
      "cell_type": "code",
      "metadata": {
        "id": "X3hMP6pb-r2s"
      },
      "source": [
        "3-5"
      ],
      "execution_count": null,
      "outputs": []
    },
    {
      "cell_type": "code",
      "metadata": {
        "id": "WMLyOGc1_Ayy"
      },
      "source": [
        "5-2"
      ],
      "execution_count": null,
      "outputs": []
    },
    {
      "cell_type": "markdown",
      "metadata": {
        "id": "-ghbz9j1_K7T"
      },
      "source": [
        "Multiplicação"
      ]
    },
    {
      "cell_type": "code",
      "metadata": {
        "id": "AVoZPXdK_Pja"
      },
      "source": [
        "3*2"
      ],
      "execution_count": null,
      "outputs": []
    },
    {
      "cell_type": "markdown",
      "metadata": {
        "id": "fUq2zcXa_WQo"
      },
      "source": [
        "Divisão "
      ]
    },
    {
      "cell_type": "code",
      "metadata": {
        "colab": {
          "base_uri": "https://localhost:8080/"
        },
        "id": "mc4TT8pm_Yw6",
        "outputId": "423fb97f-d4fd-47b5-cac1-72ca8b73d5e8"
      },
      "source": [
        "3/2"
      ],
      "execution_count": null,
      "outputs": [
        {
          "output_type": "execute_result",
          "data": {
            "text/plain": [
              "1.5"
            ]
          },
          "metadata": {},
          "execution_count": 15
        }
      ]
    },
    {
      "cell_type": "markdown",
      "metadata": {
        "id": "ERRbe1Z1_r3G"
      },
      "source": [
        "Parte Inteira da Divisão\n"
      ]
    },
    {
      "cell_type": "code",
      "metadata": {
        "colab": {
          "base_uri": "https://localhost:8080/"
        },
        "id": "dOvZKYxP_w42",
        "outputId": "b468059b-051d-4806-f850-0d4525a29e56"
      },
      "source": [
        "5//2"
      ],
      "execution_count": null,
      "outputs": [
        {
          "output_type": "execute_result",
          "data": {
            "text/plain": [
              "2"
            ]
          },
          "metadata": {},
          "execution_count": 16
        }
      ]
    },
    {
      "cell_type": "markdown",
      "metadata": {
        "id": "7XmH9aB2_2Ld"
      },
      "source": [
        "Módulo ( ou resto da divisão)\n"
      ]
    },
    {
      "cell_type": "code",
      "metadata": {
        "colab": {
          "base_uri": "https://localhost:8080/"
        },
        "id": "7vfWggui_7AD",
        "outputId": "7a2edeae-376a-46ea-8c3a-5754cf8b0a92"
      },
      "source": [
        "5%2"
      ],
      "execution_count": null,
      "outputs": [
        {
          "output_type": "execute_result",
          "data": {
            "text/plain": [
              "1"
            ]
          },
          "metadata": {},
          "execution_count": 17
        }
      ]
    },
    {
      "cell_type": "markdown",
      "metadata": {
        "id": "URH8-9YhAJhM"
      },
      "source": [
        "Exponenciação ( Potenciação)"
      ]
    },
    {
      "cell_type": "code",
      "metadata": {
        "colab": {
          "base_uri": "https://localhost:8080/"
        },
        "id": "5cjJNJsVAPka",
        "outputId": "1350e338-9de0-4365-d2ae-db6d2e437d86"
      },
      "source": [
        "2**3"
      ],
      "execution_count": null,
      "outputs": [
        {
          "output_type": "execute_result",
          "data": {
            "text/plain": [
              "8"
            ]
          },
          "metadata": {},
          "execution_count": 18
        }
      ]
    },
    {
      "cell_type": "markdown",
      "metadata": {
        "id": "QXZO2MdBAYIm"
      },
      "source": [
        "Raiz Quadrada "
      ]
    },
    {
      "cell_type": "code",
      "metadata": {
        "colab": {
          "base_uri": "https://localhost:8080/"
        },
        "id": "uHJrBy-rAf2Q",
        "outputId": "21c87d34-3486-4e1b-c503-2875b01f0a04"
      },
      "source": [
        "4**(1/2)"
      ],
      "execution_count": null,
      "outputs": [
        {
          "output_type": "execute_result",
          "data": {
            "text/plain": [
              "2.0"
            ]
          },
          "metadata": {},
          "execution_count": 19
        }
      ]
    }
  ]
}