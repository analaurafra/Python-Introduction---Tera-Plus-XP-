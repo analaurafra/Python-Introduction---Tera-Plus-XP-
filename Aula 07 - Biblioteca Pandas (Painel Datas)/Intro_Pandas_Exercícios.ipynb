{
  "nbformat": 4,
  "nbformat_minor": 0,
  "metadata": {
    "colab": {
      "name": "Intro Pandas - Exercícios",
      "provenance": []
    },
    "kernelspec": {
      "name": "python3",
      "display_name": "Python 3"
    },
    "language_info": {
      "name": "python"
    }
  },
  "cells": [
    {
      "cell_type": "markdown",
      "metadata": {
        "id": "kNUbWCavegOg"
      },
      "source": [
        "# Exercícios Pandas"
      ]
    },
    {
      "cell_type": "markdown",
      "metadata": {
        "id": "SDFnXYhqf5Fd"
      },
      "source": [
        "### Crie manualmente um DataFrame no pandas com os valores abaixo e salve na variável `df`\n",
        "- **fruta**: maçã, abacate, laranja, banana, mamão\n",
        "- **peso**: 30, 300, 50, 35, 220\n",
        "- **caloria**: 52, 160, 47, 89, 50\n",
        "\n",
        "Dica: Não se esqueça de importar a biblicoteca primeiro"
      ]
    },
    {
      "cell_type": "code",
      "metadata": {
        "id": "bWynZUYvecKF",
        "outputId": "ec2f3b46-b8fe-4057-89fb-5df7f6639fef",
        "colab": {
          "base_uri": "https://localhost:8080/",
          "height": 204
        }
      },
      "source": [
        "import pandas as pd\n",
        "\n",
        "frutas = {'fruta': ['maçã', 'abacate', ' laranja','banana','mamão'],\n",
        "         'peso': [30, 300, 50, 35, 220],\n",
        "         'caloria': [52, 160, 47, 89, 50]          \n",
        "}\n",
        "df = pd.DataFrame(frutas)\n",
        "df\n"
      ],
      "execution_count": 4,
      "outputs": [
        {
          "output_type": "execute_result",
          "data": {
            "text/html": [
              "<div>\n",
              "<style scoped>\n",
              "    .dataframe tbody tr th:only-of-type {\n",
              "        vertical-align: middle;\n",
              "    }\n",
              "\n",
              "    .dataframe tbody tr th {\n",
              "        vertical-align: top;\n",
              "    }\n",
              "\n",
              "    .dataframe thead th {\n",
              "        text-align: right;\n",
              "    }\n",
              "</style>\n",
              "<table border=\"1\" class=\"dataframe\">\n",
              "  <thead>\n",
              "    <tr style=\"text-align: right;\">\n",
              "      <th></th>\n",
              "      <th>fruta</th>\n",
              "      <th>peso</th>\n",
              "      <th>caloria</th>\n",
              "    </tr>\n",
              "  </thead>\n",
              "  <tbody>\n",
              "    <tr>\n",
              "      <th>0</th>\n",
              "      <td>maçã</td>\n",
              "      <td>30</td>\n",
              "      <td>52</td>\n",
              "    </tr>\n",
              "    <tr>\n",
              "      <th>1</th>\n",
              "      <td>abacate</td>\n",
              "      <td>300</td>\n",
              "      <td>160</td>\n",
              "    </tr>\n",
              "    <tr>\n",
              "      <th>2</th>\n",
              "      <td>laranja</td>\n",
              "      <td>50</td>\n",
              "      <td>47</td>\n",
              "    </tr>\n",
              "    <tr>\n",
              "      <th>3</th>\n",
              "      <td>banana</td>\n",
              "      <td>35</td>\n",
              "      <td>89</td>\n",
              "    </tr>\n",
              "    <tr>\n",
              "      <th>4</th>\n",
              "      <td>mamão</td>\n",
              "      <td>220</td>\n",
              "      <td>50</td>\n",
              "    </tr>\n",
              "  </tbody>\n",
              "</table>\n",
              "</div>"
            ],
            "text/plain": [
              "      fruta  peso  caloria\n",
              "0      maçã    30       52\n",
              "1   abacate   300      160\n",
              "2   laranja    50       47\n",
              "3    banana    35       89\n",
              "4     mamão   220       50"
            ]
          },
          "metadata": {},
          "execution_count": 4
        }
      ]
    },
    {
      "cell_type": "code",
      "metadata": {
        "id": "dA3gYY3jhO1J"
      },
      "source": [
        "#@title  { display-mode: \"form\" }\n",
        "import pandas as pd\n",
        "\n",
        "frutas = {'fruta': ['maçã', 'abacate', 'laranja', 'banana', 'mamão'],\n",
        "          'peso': [30, 300, 50, 35, 220],\n",
        "          'caloria': [52, 160, 47, 89, 50]   \n",
        "}\n",
        "df = pd.DataFrame(frutas)\n",
        "df"
      ],
      "execution_count": null,
      "outputs": []
    },
    {
      "cell_type": "markdown",
      "metadata": {
        "id": "Q7QQvNr0iN0t"
      },
      "source": [
        "### Descubra através de uma função do pandas as seguintes informações:\n",
        "- média de peso das frutas\n",
        "- soma de calorias das frutas "
      ]
    },
    {
      "cell_type": "code",
      "metadata": {
        "id": "FXNR-Jt6jFRK",
        "outputId": "3dd35068-2fe1-4c3b-afe8-6e2d69bb9bdb",
        "colab": {
          "base_uri": "https://localhost:8080/"
        }
      },
      "source": [
        "print('Média de peso')\n",
        "print(df['peso'].mean())\n",
        "\n",
        "print('Soma de calorias')\n",
        "print(df['caloria'].sum())\n"
      ],
      "execution_count": 8,
      "outputs": [
        {
          "output_type": "stream",
          "name": "stdout",
          "text": [
            "Média de peso\n",
            "127.0\n",
            "Soma de calorias\n",
            "398\n"
          ]
        }
      ]
    },
    {
      "cell_type": "code",
      "metadata": {
        "id": "asivXoadh2i9"
      },
      "source": [
        "#@title  { display-mode: \"form\" }\n",
        "print('Média de peso')\n",
        "print(df['peso'].mean())\n",
        "\n",
        "print('Soma de calorias')\n",
        "print(df['caloria'].sum())\n"
      ],
      "execution_count": null,
      "outputs": []
    },
    {
      "cell_type": "markdown",
      "metadata": {
        "id": "MekokS1fj8m-"
      },
      "source": [
        "### Quais as frutas que pesam mais de 100g?"
      ]
    },
    {
      "cell_type": "code",
      "metadata": {
        "id": "kE6XyzeAigBj",
        "outputId": "ff3c1389-f9cf-4fa6-a944-db3bd2f0b807",
        "colab": {
          "base_uri": "https://localhost:8080/",
          "height": 111
        }
      },
      "source": [
        "df[df['peso'] > 100]"
      ],
      "execution_count": 9,
      "outputs": [
        {
          "output_type": "execute_result",
          "data": {
            "text/html": [
              "<div>\n",
              "<style scoped>\n",
              "    .dataframe tbody tr th:only-of-type {\n",
              "        vertical-align: middle;\n",
              "    }\n",
              "\n",
              "    .dataframe tbody tr th {\n",
              "        vertical-align: top;\n",
              "    }\n",
              "\n",
              "    .dataframe thead th {\n",
              "        text-align: right;\n",
              "    }\n",
              "</style>\n",
              "<table border=\"1\" class=\"dataframe\">\n",
              "  <thead>\n",
              "    <tr style=\"text-align: right;\">\n",
              "      <th></th>\n",
              "      <th>fruta</th>\n",
              "      <th>peso</th>\n",
              "      <th>caloria</th>\n",
              "    </tr>\n",
              "  </thead>\n",
              "  <tbody>\n",
              "    <tr>\n",
              "      <th>1</th>\n",
              "      <td>abacate</td>\n",
              "      <td>300</td>\n",
              "      <td>160</td>\n",
              "    </tr>\n",
              "    <tr>\n",
              "      <th>4</th>\n",
              "      <td>mamão</td>\n",
              "      <td>220</td>\n",
              "      <td>50</td>\n",
              "    </tr>\n",
              "  </tbody>\n",
              "</table>\n",
              "</div>"
            ],
            "text/plain": [
              "     fruta  peso  caloria\n",
              "1  abacate   300      160\n",
              "4    mamão   220       50"
            ]
          },
          "metadata": {},
          "execution_count": 9
        }
      ]
    },
    {
      "cell_type": "code",
      "metadata": {
        "id": "3KWQkBzpkHc7"
      },
      "source": [
        "#@title  { display-mode: \"form\" }\n",
        "df[df['peso'] > 100]"
      ],
      "execution_count": null,
      "outputs": []
    },
    {
      "cell_type": "markdown",
      "metadata": {
        "id": "jeSHCVP6mHWP"
      },
      "source": [
        "### Faça o download do `.csv` abaixo e faça a leitura dele no `pandas`\n",
        "\n",
        "[Arquivo para download](https://drive.google.com/file/d/18f43p3FPmzRqN-I5S03U5pn6wdburrZQ/view?usp=sharing)\n",
        "\n",
        "Dica: Depois de fazer o download você tera que fazer o upload do arquivo para sua sessão do Colab."
      ]
    },
    {
      "cell_type": "code",
      "metadata": {
        "id": "vJpMMQbekK4r",
        "outputId": "7bc827ca-ebfc-48d1-b8e1-cf5591dbb953",
        "colab": {
          "base_uri": "https://localhost:8080/",
          "height": 419
        }
      },
      "source": [
        "df = pd.read_csv('gorjeta.csv')\n",
        "df"
      ],
      "execution_count": 10,
      "outputs": [
        {
          "output_type": "execute_result",
          "data": {
            "text/html": [
              "<div>\n",
              "<style scoped>\n",
              "    .dataframe tbody tr th:only-of-type {\n",
              "        vertical-align: middle;\n",
              "    }\n",
              "\n",
              "    .dataframe tbody tr th {\n",
              "        vertical-align: top;\n",
              "    }\n",
              "\n",
              "    .dataframe thead th {\n",
              "        text-align: right;\n",
              "    }\n",
              "</style>\n",
              "<table border=\"1\" class=\"dataframe\">\n",
              "  <thead>\n",
              "    <tr style=\"text-align: right;\">\n",
              "      <th></th>\n",
              "      <th>total</th>\n",
              "      <th>gorjeta</th>\n",
              "      <th>fumante</th>\n",
              "      <th>tamanho</th>\n",
              "    </tr>\n",
              "  </thead>\n",
              "  <tbody>\n",
              "    <tr>\n",
              "      <th>0</th>\n",
              "      <td>16.99</td>\n",
              "      <td>1.01</td>\n",
              "      <td>No</td>\n",
              "      <td>2</td>\n",
              "    </tr>\n",
              "    <tr>\n",
              "      <th>1</th>\n",
              "      <td>10.34</td>\n",
              "      <td>1.66</td>\n",
              "      <td>No</td>\n",
              "      <td>3</td>\n",
              "    </tr>\n",
              "    <tr>\n",
              "      <th>2</th>\n",
              "      <td>21.01</td>\n",
              "      <td>3.50</td>\n",
              "      <td>No</td>\n",
              "      <td>3</td>\n",
              "    </tr>\n",
              "    <tr>\n",
              "      <th>3</th>\n",
              "      <td>23.68</td>\n",
              "      <td>3.31</td>\n",
              "      <td>No</td>\n",
              "      <td>2</td>\n",
              "    </tr>\n",
              "    <tr>\n",
              "      <th>4</th>\n",
              "      <td>24.59</td>\n",
              "      <td>3.61</td>\n",
              "      <td>No</td>\n",
              "      <td>4</td>\n",
              "    </tr>\n",
              "    <tr>\n",
              "      <th>...</th>\n",
              "      <td>...</td>\n",
              "      <td>...</td>\n",
              "      <td>...</td>\n",
              "      <td>...</td>\n",
              "    </tr>\n",
              "    <tr>\n",
              "      <th>239</th>\n",
              "      <td>29.03</td>\n",
              "      <td>5.92</td>\n",
              "      <td>No</td>\n",
              "      <td>3</td>\n",
              "    </tr>\n",
              "    <tr>\n",
              "      <th>240</th>\n",
              "      <td>27.18</td>\n",
              "      <td>2.00</td>\n",
              "      <td>Yes</td>\n",
              "      <td>2</td>\n",
              "    </tr>\n",
              "    <tr>\n",
              "      <th>241</th>\n",
              "      <td>22.67</td>\n",
              "      <td>2.00</td>\n",
              "      <td>Yes</td>\n",
              "      <td>2</td>\n",
              "    </tr>\n",
              "    <tr>\n",
              "      <th>242</th>\n",
              "      <td>17.82</td>\n",
              "      <td>1.75</td>\n",
              "      <td>No</td>\n",
              "      <td>2</td>\n",
              "    </tr>\n",
              "    <tr>\n",
              "      <th>243</th>\n",
              "      <td>18.78</td>\n",
              "      <td>3.00</td>\n",
              "      <td>No</td>\n",
              "      <td>2</td>\n",
              "    </tr>\n",
              "  </tbody>\n",
              "</table>\n",
              "<p>244 rows × 4 columns</p>\n",
              "</div>"
            ],
            "text/plain": [
              "     total  gorjeta fumante  tamanho\n",
              "0    16.99     1.01      No        2\n",
              "1    10.34     1.66      No        3\n",
              "2    21.01     3.50      No        3\n",
              "3    23.68     3.31      No        2\n",
              "4    24.59     3.61      No        4\n",
              "..     ...      ...     ...      ...\n",
              "239  29.03     5.92      No        3\n",
              "240  27.18     2.00     Yes        2\n",
              "241  22.67     2.00     Yes        2\n",
              "242  17.82     1.75      No        2\n",
              "243  18.78     3.00      No        2\n",
              "\n",
              "[244 rows x 4 columns]"
            ]
          },
          "metadata": {},
          "execution_count": 10
        }
      ]
    },
    {
      "cell_type": "code",
      "metadata": {
        "id": "kGhuTHi5kV2l"
      },
      "source": [
        "#@title  { display-mode: \"form\" }\n",
        "df = pd.read_csv('gorjeta.csv')\n",
        "df"
      ],
      "execution_count": null,
      "outputs": []
    },
    {
      "cell_type": "markdown",
      "metadata": {
        "id": "4K_XNSDqoa4v"
      },
      "source": [
        "### Utilize a função `.head()` para verificar as 5 primeiras linhas do DataFrame"
      ]
    },
    {
      "cell_type": "code",
      "metadata": {
        "id": "-HR54O9Wksse",
        "outputId": "660e239e-c9c7-44f7-c0e0-12fcc7a86d81",
        "colab": {
          "base_uri": "https://localhost:8080/",
          "height": 204
        }
      },
      "source": [
        "df.head()"
      ],
      "execution_count": 11,
      "outputs": [
        {
          "output_type": "execute_result",
          "data": {
            "text/html": [
              "<div>\n",
              "<style scoped>\n",
              "    .dataframe tbody tr th:only-of-type {\n",
              "        vertical-align: middle;\n",
              "    }\n",
              "\n",
              "    .dataframe tbody tr th {\n",
              "        vertical-align: top;\n",
              "    }\n",
              "\n",
              "    .dataframe thead th {\n",
              "        text-align: right;\n",
              "    }\n",
              "</style>\n",
              "<table border=\"1\" class=\"dataframe\">\n",
              "  <thead>\n",
              "    <tr style=\"text-align: right;\">\n",
              "      <th></th>\n",
              "      <th>total</th>\n",
              "      <th>gorjeta</th>\n",
              "      <th>fumante</th>\n",
              "      <th>tamanho</th>\n",
              "    </tr>\n",
              "  </thead>\n",
              "  <tbody>\n",
              "    <tr>\n",
              "      <th>0</th>\n",
              "      <td>16.99</td>\n",
              "      <td>1.01</td>\n",
              "      <td>No</td>\n",
              "      <td>2</td>\n",
              "    </tr>\n",
              "    <tr>\n",
              "      <th>1</th>\n",
              "      <td>10.34</td>\n",
              "      <td>1.66</td>\n",
              "      <td>No</td>\n",
              "      <td>3</td>\n",
              "    </tr>\n",
              "    <tr>\n",
              "      <th>2</th>\n",
              "      <td>21.01</td>\n",
              "      <td>3.50</td>\n",
              "      <td>No</td>\n",
              "      <td>3</td>\n",
              "    </tr>\n",
              "    <tr>\n",
              "      <th>3</th>\n",
              "      <td>23.68</td>\n",
              "      <td>3.31</td>\n",
              "      <td>No</td>\n",
              "      <td>2</td>\n",
              "    </tr>\n",
              "    <tr>\n",
              "      <th>4</th>\n",
              "      <td>24.59</td>\n",
              "      <td>3.61</td>\n",
              "      <td>No</td>\n",
              "      <td>4</td>\n",
              "    </tr>\n",
              "  </tbody>\n",
              "</table>\n",
              "</div>"
            ],
            "text/plain": [
              "   total  gorjeta fumante  tamanho\n",
              "0  16.99     1.01      No        2\n",
              "1  10.34     1.66      No        3\n",
              "2  21.01     3.50      No        3\n",
              "3  23.68     3.31      No        2\n",
              "4  24.59     3.61      No        4"
            ]
          },
          "metadata": {},
          "execution_count": 11
        }
      ]
    },
    {
      "cell_type": "code",
      "metadata": {
        "id": "fCQ-yzuQol0m"
      },
      "source": [
        "#@title  { display-mode: \"form\" }\n",
        "\n",
        "df.head()"
      ],
      "execution_count": null,
      "outputs": []
    },
    {
      "cell_type": "markdown",
      "metadata": {
        "id": "P6WIdYedqcJK"
      },
      "source": [
        "### Utilize a função `.describe()` para ter uma descrição estatística dos seu DataFrame"
      ]
    },
    {
      "cell_type": "code",
      "metadata": {
        "id": "ZFqzEpNSqcgT",
        "outputId": "5db4de95-2b72-4288-fd42-b18ba3ea99a1",
        "colab": {
          "base_uri": "https://localhost:8080/",
          "height": 297
        }
      },
      "source": [
        "df.describe()"
      ],
      "execution_count": 12,
      "outputs": [
        {
          "output_type": "execute_result",
          "data": {
            "text/html": [
              "<div>\n",
              "<style scoped>\n",
              "    .dataframe tbody tr th:only-of-type {\n",
              "        vertical-align: middle;\n",
              "    }\n",
              "\n",
              "    .dataframe tbody tr th {\n",
              "        vertical-align: top;\n",
              "    }\n",
              "\n",
              "    .dataframe thead th {\n",
              "        text-align: right;\n",
              "    }\n",
              "</style>\n",
              "<table border=\"1\" class=\"dataframe\">\n",
              "  <thead>\n",
              "    <tr style=\"text-align: right;\">\n",
              "      <th></th>\n",
              "      <th>total</th>\n",
              "      <th>gorjeta</th>\n",
              "      <th>tamanho</th>\n",
              "    </tr>\n",
              "  </thead>\n",
              "  <tbody>\n",
              "    <tr>\n",
              "      <th>count</th>\n",
              "      <td>244.000000</td>\n",
              "      <td>244.000000</td>\n",
              "      <td>244.000000</td>\n",
              "    </tr>\n",
              "    <tr>\n",
              "      <th>mean</th>\n",
              "      <td>19.785943</td>\n",
              "      <td>2.998279</td>\n",
              "      <td>2.569672</td>\n",
              "    </tr>\n",
              "    <tr>\n",
              "      <th>std</th>\n",
              "      <td>8.902412</td>\n",
              "      <td>1.383638</td>\n",
              "      <td>0.951100</td>\n",
              "    </tr>\n",
              "    <tr>\n",
              "      <th>min</th>\n",
              "      <td>3.070000</td>\n",
              "      <td>1.000000</td>\n",
              "      <td>1.000000</td>\n",
              "    </tr>\n",
              "    <tr>\n",
              "      <th>25%</th>\n",
              "      <td>13.347500</td>\n",
              "      <td>2.000000</td>\n",
              "      <td>2.000000</td>\n",
              "    </tr>\n",
              "    <tr>\n",
              "      <th>50%</th>\n",
              "      <td>17.795000</td>\n",
              "      <td>2.900000</td>\n",
              "      <td>2.000000</td>\n",
              "    </tr>\n",
              "    <tr>\n",
              "      <th>75%</th>\n",
              "      <td>24.127500</td>\n",
              "      <td>3.562500</td>\n",
              "      <td>3.000000</td>\n",
              "    </tr>\n",
              "    <tr>\n",
              "      <th>max</th>\n",
              "      <td>50.810000</td>\n",
              "      <td>10.000000</td>\n",
              "      <td>6.000000</td>\n",
              "    </tr>\n",
              "  </tbody>\n",
              "</table>\n",
              "</div>"
            ],
            "text/plain": [
              "            total     gorjeta     tamanho\n",
              "count  244.000000  244.000000  244.000000\n",
              "mean    19.785943    2.998279    2.569672\n",
              "std      8.902412    1.383638    0.951100\n",
              "min      3.070000    1.000000    1.000000\n",
              "25%     13.347500    2.000000    2.000000\n",
              "50%     17.795000    2.900000    2.000000\n",
              "75%     24.127500    3.562500    3.000000\n",
              "max     50.810000   10.000000    6.000000"
            ]
          },
          "metadata": {},
          "execution_count": 12
        }
      ]
    },
    {
      "cell_type": "code",
      "metadata": {
        "id": "uLSdlntQqc1H"
      },
      "source": [
        "#@title  { display-mode: \"form\" }\n",
        "df.describe()"
      ],
      "execution_count": null,
      "outputs": []
    },
    {
      "cell_type": "markdown",
      "metadata": {
        "id": "CQxGBV2Xqx6y"
      },
      "source": [
        "### Desenhe um histograma da variável **gorjeta**"
      ]
    },
    {
      "cell_type": "code",
      "metadata": {
        "id": "DL88BHowqyiZ",
        "outputId": "39fa9843-de6c-41bd-b51b-f2b3dc047322",
        "colab": {
          "base_uri": "https://localhost:8080/",
          "height": 282
        }
      },
      "source": [
        "df['gorjeta'].hist()"
      ],
      "execution_count": 13,
      "outputs": [
        {
          "output_type": "execute_result",
          "data": {
            "text/plain": [
              "<matplotlib.axes._subplots.AxesSubplot at 0x7fbe162a9dd0>"
            ]
          },
          "metadata": {},
          "execution_count": 13
        },
        {
          "output_type": "display_data",
          "data": {
            "image/png": "[encoded data removed]",
            "text/plain": [
              "<Figure size 432x288 with 1 Axes>"
            ]
          },
          "metadata": {
            "needs_background": "light"
          }
        }
      ]
    },
    {
      "cell_type": "code",
      "metadata": {
        "id": "cNOyfc55qy8K"
      },
      "source": [
        "#@title  { display-mode: \"form\" }\n",
        "df['gorjeta'].hist()"
      ],
      "execution_count": null,
      "outputs": []
    },
    {
      "cell_type": "markdown",
      "metadata": {
        "id": "nWXE7T1ZpeXE"
      },
      "source": [
        "### (Bônus) Verifique qual a gorjeta máxima que um fumante deu, e a que um Não-Fumante deu.\n",
        "Dicas: \n",
        "- A função que retorna o maior valor de uma série é `.max()`\n",
        "- Você pode filtrar os fumantes verificando a igualdade `==` com a palavra `'Yes'`"
      ]
    },
    {
      "cell_type": "code",
      "metadata": {
        "id": "cmsTEjFZpe0R",
        "outputId": "41ea0796-3cf5-458f-e0b0-d18b87ff6aca",
        "colab": {
          "base_uri": "https://localhost:8080/"
        }
      },
      "source": [
        "print(\"Maior gorjeta Fumante\")\n",
        "print(df[df['fumante'] == 'Yes']['gorjeta'].max())\n",
        "print(\"Maior gorjeta Não-Fumante\")\n",
        "print(df[df['fumante'] == 'No']['gorjeta'].max())"
      ],
      "execution_count": 14,
      "outputs": [
        {
          "output_type": "stream",
          "name": "stdout",
          "text": [
            "Maior gorjeta Fumante\n",
            "10.0\n",
            "Maior gorjeta Não-Fumante\n",
            "9.0\n"
          ]
        }
      ]
    },
    {
      "cell_type": "code",
      "metadata": {
        "id": "jVMn-7jhonKt"
      },
      "source": [
        "#@title  { display-mode: \"form\" }\n",
        "print(\"Maior gorjeta Fumante\")\n",
        "print(df[df['fumante'] == 'Yes']['gorjeta'].max())\n",
        "print(\"Maior gorjeta Não-Fumante\")\n",
        "print(df[df['fumante'] == 'No']['gorjeta'].max())\n"
      ],
      "execution_count": null,
      "outputs": []
    },
    {
      "cell_type": "code",
      "metadata": {
        "id": "qC0z8u77o1as"
      },
      "source": [
        ""
      ],
      "execution_count": null,
      "outputs": []
    }
  ]
}