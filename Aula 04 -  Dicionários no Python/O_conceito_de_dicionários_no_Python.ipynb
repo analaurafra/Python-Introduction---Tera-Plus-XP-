{
  "nbformat": 4,
  "nbformat_minor": 0,
  "metadata": {
    "colab": {
      "name": "O conceito de dicionários no Python",
      "provenance": []
    },
    "kernelspec": {
      "name": "python3",
      "display_name": "Python 3"
    },
    "language_info": {
      "name": "python"
    }
  },
  "cells": [
    {
      "cell_type": "markdown",
      "metadata": {
        "id": "iPRi-yBwxfrK"
      },
      "source": [
        "**Manipulação de dados com dicionários**\n",
        "\n",
        "O objetivo desta aula é entender o conceito da estrutura de dados de dicionários. Esta estrutura é utilizada na linguagem Python para armazenamento e manipulação de dados. A seguir vocês podem encontrar um exemplo de criação de dicionário:"
      ]
    },
    {
      "cell_type": "code",
      "metadata": {
        "colab": {
          "base_uri": "https://localhost:8080/"
        },
        "id": "E9mZm3aVxO0A",
        "outputId": "fb94e742-e517-4284-bdc4-9dfbf38c9f8f"
      },
      "source": [
        "#criando um novo dicionário\n",
        "entretenimento = {'Séries' : 'The Crown'}\n",
        "\n",
        "#imprimindo o conteúdo deste dicionário\n",
        "print(entretenimento)"
      ],
      "execution_count": 3,
      "outputs": [
        {
          "output_type": "stream",
          "name": "stdout",
          "text": [
            "{'Séries': 'The Crown'}\n"
          ]
        }
      ]
    },
    {
      "cell_type": "markdown",
      "metadata": {
        "id": "4V7tUT62yc35"
      },
      "source": [
        "Criando dicionário de dados dentro das chaves {}"
      ]
    },
    {
      "cell_type": "code",
      "metadata": {
        "colab": {
          "base_uri": "https://localhost:8080/"
        },
        "id": "f0DGcGcjx5LG",
        "outputId": "54bb33d5-7465-481e-8e88-93db073fcef0"
      },
      "source": [
        "#iniciando o dicionário com chaves {}\n",
        "entretenimento = {'Filmes' : 'Ghost do outro lado do paraiso','Séries': 'Breaking Bad', 'Documentários' :'Lady Gaga'}\n",
        "\n",
        "#imprimindo o conteúdo do dicionário\n",
        "print(entretenimento)"
      ],
      "execution_count": 6,
      "outputs": [
        {
          "output_type": "stream",
          "name": "stdout",
          "text": [
            "{'Filmes': 'Ghost do outro lado do paraiso', 'Séries': 'Breaking Bad', 'Documentários': 'Lady Gaga'}\n"
          ]
        }
      ]
    },
    {
      "cell_type": "markdown",
      "metadata": {
        "id": "RCmorGiY2a1t"
      },
      "source": [
        "Criando dicionário através do dic()"
      ]
    },
    {
      "cell_type": "code",
      "metadata": {
        "colab": {
          "base_uri": "https://localhost:8080/"
        },
        "id": "C_cGRSgy2htP",
        "outputId": "d851f179-05a2-4a9c-fa1e-9f1c428203f1"
      },
      "source": [
        "entretenimento = dict([('Filmes','Ghost do outro lado do paraiso'),('Séries','Breaking Bad')])\n",
        "\n",
        "print(entretenimento)"
      ],
      "execution_count": 8,
      "outputs": [
        {
          "output_type": "stream",
          "name": "stdout",
          "text": [
            "{'Filmes': 'Ghost do outro lado do paraiso', 'Séries': 'Breaking Bad'}\n"
          ]
        }
      ]
    },
    {
      "cell_type": "markdown",
      "metadata": {
        "id": "b9kbJKXF4oEi"
      },
      "source": [
        "Acesso aos elementos de um dicionário"
      ]
    },
    {
      "cell_type": "code",
      "metadata": {
        "colab": {
          "base_uri": "https://localhost:8080/"
        },
        "id": "H3Ry32XT4txe",
        "outputId": "34f22f92-1c83-4690-d8d0-d2033e4520a5"
      },
      "source": [
        "#Acessando os elementos através da chave\n",
        "entretenimento = dict([('Filmes','Ghost do outro lado do paraiso'),('Séries','Breaking Bad')])\n",
        "\n",
        "#imprimindo \n",
        "print(entretenimento['Séries'])"
      ],
      "execution_count": 12,
      "outputs": [
        {
          "output_type": "stream",
          "name": "stdout",
          "text": [
            "Breaking Bad\n"
          ]
        }
      ]
    },
    {
      "cell_type": "code",
      "metadata": {
        "colab": {
          "base_uri": "https://localhost:8080/",
          "height": 35
        },
        "id": "qucjUxUJ5Mq1",
        "outputId": "efe9e60c-90cf-4b67-f014-a17d0ed1cc73"
      },
      "source": [
        "#Acessando os elementos através da função Get()\n",
        "entretenimento = dict([('Filmes','Ghost do outro lado do paraiso'),('Séries','Breaking Bad')])\n",
        "\n",
        "#imprimindo \n",
        "entretenimento.get('Séries')"
      ],
      "execution_count": 13,
      "outputs": [
        {
          "output_type": "execute_result",
          "data": {
            "application/vnd.google.colaboratory.intrinsic+json": {
              "type": "string"
            },
            "text/plain": [
              "'Breaking Bad'"
            ]
          },
          "metadata": {},
          "execution_count": 13
        }
      ]
    },
    {
      "cell_type": "code",
      "metadata": {
        "colab": {
          "base_uri": "https://localhost:8080/"
        },
        "id": "aams5i9y6Rfc",
        "outputId": "98a5cf48-287e-484c-c142-454a53876285"
      },
      "source": [
        "# iniciando com a função dict \n",
        "entretenimento = dict([('Filmes','Ghost do outro lado do paraiso'),('Séries','Breaking Bad')])\n",
        "\n",
        "# Imprimindo o conteúdo do dicionário antes da inserção\n",
        "print('Antes:')\n",
        "print(entretenimento)\n",
        "\n",
        "#inserindo um novo elemento neste dicionário\n",
        "entretenimento['Trash Metal'] = 'Slayer'\n",
        "\n",
        "#imprimindo o conteúdo após inserção\n",
        "print('Depois:')\n",
        "print(entretenimento)\n",
        "\n"
      ],
      "execution_count": 15,
      "outputs": [
        {
          "output_type": "stream",
          "name": "stdout",
          "text": [
            "Antes:\n",
            "{'Filmes': 'Ghost do outro lado do paraiso', 'Séries': 'Breaking Bad'}\n",
            "Depois:\n",
            "{'Filmes': 'Ghost do outro lado do paraiso', 'Séries': 'Breaking Bad', 'Trash Metal': 'Slayer'}\n"
          ]
        }
      ]
    },
    {
      "cell_type": "markdown",
      "metadata": {
        "id": "bZX7ed_k-Fa8"
      },
      "source": [
        "Remoção de elementos de um dicionário"
      ]
    },
    {
      "cell_type": "code",
      "metadata": {
        "colab": {
          "base_uri": "https://localhost:8080/"
        },
        "id": "a9WkHPAV-JnR",
        "outputId": "1d5742d9-965e-4b79-ac11-04487b454a81"
      },
      "source": [
        "entretenimento = dict([('Filmes','Ghost do outro lado do paraiso'),('Séries','Breaking Bad')])\n",
        "\n",
        "# Imprimindo o conteúdo do dicionário antes da inserção\n",
        "print('Antes:')\n",
        "print(entretenimento)\n",
        "\n",
        "#inserindo um novo elemento neste dicionário\n",
        "entretenimento['Trash Metal'] = 'Slayer'\n",
        "\n",
        "#deletanto o elemento\n",
        "del entretenimento ['Séries']\n",
        "\n",
        "#imprimindo o conteúdo após inserção\n",
        "print('Depois:')\n",
        "print(entretenimento)\n"
      ],
      "execution_count": 17,
      "outputs": [
        {
          "output_type": "stream",
          "name": "stdout",
          "text": [
            "Antes:\n",
            "{'Filmes': 'Ghost do outro lado do paraiso', 'Séries': 'Breaking Bad'}\n",
            "Depois:\n",
            "{'Filmes': 'Ghost do outro lado do paraiso', 'Trash Metal': 'Slayer'}\n"
          ]
        }
      ]
    }
  ]
}